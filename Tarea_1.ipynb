{
  "nbformat": 4,
  "nbformat_minor": 0,
  "metadata": {
    "colab": {
      "name": "Tarea 1.ipynb",
      "provenance": [],
      "collapsed_sections": []
    },
    "kernelspec": {
      "name": "python3",
      "display_name": "Python 3"
    }
  },
  "cells": [
    {
      "cell_type": "markdown",
      "metadata": {
        "id": "C3vRGdjs83OZ"
      },
      "source": [
        "##**Nombre:** Jans Cristian Renteri Jimenez **Codigo:**160003327 ##\n",
        "##**Nombre:** Yohan Dayan Vacca Vaca **Codigo:**160003833 ##"
      ]
    },
    {
      "cell_type": "markdown",
      "metadata": {
        "id": "0Cch5Hyw0-oF"
      },
      "source": [
        "# **Tarea 1 - Simulación Computacional**\n",
        "## **IPA-2021**  ##\n",
        "Elabore cada uno de los puntos incluyendo la implementación correspondiente con sus dependencias y librerías en Python debidamente ejecutadas y guardadas. Debe descargar el archivo de Notebook de Jupyter o Google Colab (.ipynb) ejecutado y guardado para enviarlo adjunto por la plataforma Moodle del curso en la Tarea 1 correspondiente.\n",
        "\n",
        "Fecha máxima de entrega: ***23:00h - Marzo 24 de 2021*** \n"
      ]
    },
    {
      "cell_type": "markdown",
      "metadata": {
        "id": "R4u_FmRMzwpg"
      },
      "source": [
        "## **1. Generación de números aleatorios.** ##\n",
        "\n",
        "### 1.1. ### \n",
        "\n",
        "Implementar el método de cuadrados medios (Mid-Square) para cualquier numero de $2n$ cifras donde al menos $n \\geqslant 2$ (debe validarlo), y genere 100 ($N=100$) numeros aleatorios $u_i$ usando como semilla $x_0$ los últimos 4 dígitos de su código estudiantil."
      ]
    },
    {
      "cell_type": "code",
      "metadata": {
        "id": "cZlIDPBs2xYk",
        "colab": {
          "base_uri": "https://localhost:8080/"
        },
        "outputId": "49a9d2e6-44d9-48f5-dd6a-e19ab04f182c"
      },
      "source": [
        "import numpy as np\n",
        "import time\n",
        "from datetime import datetime\n",
        "\n",
        "def gencuad(x0):\n",
        "  xsig=int(x0**2)\n",
        "  aux=str(xsig)\n",
        "  u=''\n",
        "  if(len(aux) == 6):\n",
        "    aux=\"0\"+aux\n",
        "    \n",
        "  if(len(aux) == 7):\n",
        "    aux=\"0\"+aux\n",
        "\n",
        "  for x in range(len(aux)):\n",
        "    if(x>=2 and x<=5):\n",
        "      u=u+aux[x]\n",
        "  uaux=int(u)\n",
        "  usig=uaux/10000\n",
        "  return [usig*10000,usig]\n",
        "\n",
        "def gencuadN(x0,N):\n",
        "  xant = x0\n",
        "  I=[]\n",
        "  X=[]\n",
        "  U=[]\n",
        "  for t in range(1, N+1):\n",
        "    [xi,ui] = gencuad(xant)\n",
        "    I.append(t)\n",
        "    X.append(xi)\n",
        "    U.append(ui)\n",
        "    xant = xi\n",
        "  return [I,X,U] \n",
        "\n",
        "def showValues(I,X,U):\n",
        "    print(\"i\\tXi\\tUi\")\n",
        "    for t in range(0, len(X)):\n",
        "        print(\"%d\\t%d\\t%2.4f\" % (I[t],X[t],U[t]), sep=' ', end='\\n')\n",
        "\n",
        "N=100\n",
        "x0=3327\n",
        "[I,X,U]=gencuadN(x0,N)\n",
        "showValues(I,X,U)"
      ],
      "execution_count": null,
      "outputs": [
        {
          "output_type": "stream",
          "text": [
            "i\tXi\tUi\n",
            "1\t689\t0.0689\n",
            "2\t4747\t0.4747\n",
            "3\t5340\t0.5340\n",
            "4\t5155\t0.5156\n",
            "5\t5843\t0.5843\n",
            "6\t1406\t0.1406\n",
            "7\t9768\t0.9768\n",
            "8\t4138\t0.4138\n",
            "9\t1230\t0.1230\n",
            "10\t5129\t0.5129\n",
            "11\t3066\t0.3066\n",
            "12\t4003\t0.4003\n",
            "13\t240\t0.0240\n",
            "14\t600\t0.0600\n",
            "15\t3600\t0.3600\n",
            "16\t9600\t0.9600\n",
            "17\t1600\t0.1600\n",
            "18\t5600\t0.5600\n",
            "19\t3600\t0.3600\n",
            "20\t9600\t0.9600\n",
            "21\t1600\t0.1600\n",
            "22\t5600\t0.5600\n",
            "23\t3600\t0.3600\n",
            "24\t9600\t0.9600\n",
            "25\t1600\t0.1600\n",
            "26\t5600\t0.5600\n",
            "27\t3600\t0.3600\n",
            "28\t9600\t0.9600\n",
            "29\t1600\t0.1600\n",
            "30\t5600\t0.5600\n",
            "31\t3600\t0.3600\n",
            "32\t9600\t0.9600\n",
            "33\t1600\t0.1600\n",
            "34\t5600\t0.5600\n",
            "35\t3600\t0.3600\n",
            "36\t9600\t0.9600\n",
            "37\t1600\t0.1600\n",
            "38\t5600\t0.5600\n",
            "39\t3600\t0.3600\n",
            "40\t9600\t0.9600\n",
            "41\t1600\t0.1600\n",
            "42\t5600\t0.5600\n",
            "43\t3600\t0.3600\n",
            "44\t9600\t0.9600\n",
            "45\t1600\t0.1600\n",
            "46\t5600\t0.5600\n",
            "47\t3600\t0.3600\n",
            "48\t9600\t0.9600\n",
            "49\t1600\t0.1600\n",
            "50\t5600\t0.5600\n",
            "51\t3600\t0.3600\n",
            "52\t9600\t0.9600\n",
            "53\t1600\t0.1600\n",
            "54\t5600\t0.5600\n",
            "55\t3600\t0.3600\n",
            "56\t9600\t0.9600\n",
            "57\t1600\t0.1600\n",
            "58\t5600\t0.5600\n",
            "59\t3600\t0.3600\n",
            "60\t9600\t0.9600\n",
            "61\t1600\t0.1600\n",
            "62\t5600\t0.5600\n",
            "63\t3600\t0.3600\n",
            "64\t9600\t0.9600\n",
            "65\t1600\t0.1600\n",
            "66\t5600\t0.5600\n",
            "67\t3600\t0.3600\n",
            "68\t9600\t0.9600\n",
            "69\t1600\t0.1600\n",
            "70\t5600\t0.5600\n",
            "71\t3600\t0.3600\n",
            "72\t9600\t0.9600\n",
            "73\t1600\t0.1600\n",
            "74\t5600\t0.5600\n",
            "75\t3600\t0.3600\n",
            "76\t9600\t0.9600\n",
            "77\t1600\t0.1600\n",
            "78\t5600\t0.5600\n",
            "79\t3600\t0.3600\n",
            "80\t9600\t0.9600\n",
            "81\t1600\t0.1600\n",
            "82\t5600\t0.5600\n",
            "83\t3600\t0.3600\n",
            "84\t9600\t0.9600\n",
            "85\t1600\t0.1600\n",
            "86\t5600\t0.5600\n",
            "87\t3600\t0.3600\n",
            "88\t9600\t0.9600\n",
            "89\t1600\t0.1600\n",
            "90\t5600\t0.5600\n",
            "91\t3600\t0.3600\n",
            "92\t9600\t0.9600\n",
            "93\t1600\t0.1600\n",
            "94\t5600\t0.5600\n",
            "95\t3600\t0.3600\n",
            "96\t9600\t0.9600\n",
            "97\t1600\t0.1600\n",
            "98\t5600\t0.5600\n",
            "99\t3600\t0.3600\n",
            "100\t9600\t0.9600\n"
          ],
          "name": "stdout"
        }
      ]
    },
    {
      "cell_type": "markdown",
      "metadata": {
        "id": "NRe2wJQI579W"
      },
      "source": [
        "##1.2.##\n",
        "Para los siguientes generadores congruenciales mixtos genere 100 ($N=100$) números aleatorios  $u_i = u_1,...,u_{100}$, e indique el tamaño del ciclo (si lo tiene)."
      ]
    },
    {
      "cell_type": "markdown",
      "metadata": {
        "id": "dH0r-eRRBc6H"
      },
      "source": [
        "**a)** $x_0=71, x_n = (14x_{n-1}+9) \\mod 127$"
      ]
    },
    {
      "cell_type": "code",
      "metadata": {
        "id": "vjLE4WWWELfD"
      },
      "source": [
        "import numpy as np\n",
        "import time\n",
        "from datetime import datetime\n",
        "\n",
        "def genran(a,c,m,xant):\n",
        "    xsig = (a*xant + c) % m\n",
        "    usig = xsig / m\n",
        "    return [xsig,usig]\n",
        "\n",
        "def genranN(a,c,m,x0,N):\n",
        "    xant = x0\n",
        "    I=[]\n",
        "    X=[]\n",
        "    U=[]\n",
        "    for t in range(1, N+1):\n",
        "        [xi,ui] = genran(a,c,m,xant)\n",
        "        I.append(t)\n",
        "        X.append(xi)\n",
        "        U.append(ui)\n",
        "        xant = xi\n",
        "    return [I,X,U]\n",
        "    \n",
        "def showValues(I,X,U):\n",
        "    print(\"i\\tXi\\tUi\")\n",
        "    for t in range(0, len(X)):\n",
        "        print(\"%d\\t%d\\t%2.4f\" % (I[t],X[t],U[t]), sep=' ', end='\\n')\n",
        "\n",
        "def tam_ciclo(values):\n",
        "    tam = 1\n",
        "    max_len = int(len(values) / 2)\n",
        "    for ii in range(2, max_len):\n",
        "        if (values[0:ii] == values[ii:2*ii]).any() :\n",
        "            return ii\n",
        "    \n",
        "    return tam"
      ],
      "execution_count": null,
      "outputs": []
    },
    {
      "cell_type": "code",
      "metadata": {
        "colab": {
          "base_uri": "https://localhost:8080/"
        },
        "id": "vVkwZ0lukw6l",
        "outputId": "16f167c4-d228-493c-9c1b-57266772433a"
      },
      "source": [
        "N = 100\n",
        "\n",
        "a = 14.0\n",
        "b = 9.0\n",
        "m = 127.0\n",
        "x0 = 71.0\n",
        "\n",
        "[I,X,U] = genranN(a,b,m,x0,N)\n",
        "showValues(I,X,U)\n",
        "print(\"El tamaño del ciclo es: \"+str(tam_ciclo((np.array(X)).astype(int))))"
      ],
      "execution_count": null,
      "outputs": [
        {
          "output_type": "stream",
          "text": [
            "i\tXi\tUi\n",
            "1\t114\t0.8976\n",
            "2\t81\t0.6378\n",
            "3\t0\t0.0000\n",
            "4\t9\t0.0709\n",
            "5\t8\t0.0630\n",
            "6\t121\t0.9528\n",
            "7\t52\t0.4094\n",
            "8\t102\t0.8031\n",
            "9\t40\t0.3150\n",
            "10\t61\t0.4803\n",
            "11\t101\t0.7953\n",
            "12\t26\t0.2047\n",
            "13\t119\t0.9370\n",
            "14\t24\t0.1890\n",
            "15\t91\t0.7165\n",
            "16\t13\t0.1024\n",
            "17\t64\t0.5039\n",
            "18\t16\t0.1260\n",
            "19\t106\t0.8346\n",
            "20\t96\t0.7559\n",
            "21\t83\t0.6535\n",
            "22\t28\t0.2205\n",
            "23\t20\t0.1575\n",
            "24\t35\t0.2756\n",
            "25\t118\t0.9291\n",
            "26\t10\t0.0787\n",
            "27\t22\t0.1732\n",
            "28\t63\t0.4961\n",
            "29\t2\t0.0157\n",
            "30\t37\t0.2913\n",
            "31\t19\t0.1496\n",
            "32\t21\t0.1654\n",
            "33\t49\t0.3858\n",
            "34\t60\t0.4724\n",
            "35\t87\t0.6850\n",
            "36\t84\t0.6614\n",
            "37\t42\t0.3307\n",
            "38\t89\t0.7008\n",
            "39\t112\t0.8819\n",
            "40\t53\t0.4173\n",
            "41\t116\t0.9134\n",
            "42\t109\t0.8583\n",
            "43\t11\t0.0866\n",
            "44\t36\t0.2835\n",
            "45\t5\t0.0394\n",
            "46\t79\t0.6220\n",
            "47\t99\t0.7795\n",
            "48\t125\t0.9843\n",
            "49\t108\t0.8504\n",
            "50\t124\t0.9764\n",
            "51\t94\t0.7402\n",
            "52\t55\t0.4331\n",
            "53\t17\t0.1339\n",
            "54\t120\t0.9449\n",
            "55\t38\t0.2992\n",
            "56\t33\t0.2598\n",
            "57\t90\t0.7087\n",
            "58\t126\t0.9921\n",
            "59\t122\t0.9606\n",
            "60\t66\t0.5197\n",
            "61\t44\t0.3465\n",
            "62\t117\t0.9213\n",
            "63\t123\t0.9685\n",
            "64\t80\t0.6299\n",
            "65\t113\t0.8898\n",
            "66\t67\t0.5276\n",
            "67\t58\t0.4567\n",
            "68\t59\t0.4646\n",
            "69\t73\t0.5748\n",
            "70\t15\t0.1181\n",
            "71\t92\t0.7244\n",
            "72\t27\t0.2126\n",
            "73\t6\t0.0472\n",
            "74\t93\t0.7323\n",
            "75\t41\t0.3228\n",
            "76\t75\t0.5906\n",
            "77\t43\t0.3386\n",
            "78\t103\t0.8110\n",
            "79\t54\t0.4252\n",
            "80\t3\t0.0236\n",
            "81\t51\t0.4016\n",
            "82\t88\t0.6929\n",
            "83\t98\t0.7717\n",
            "84\t111\t0.8740\n",
            "85\t39\t0.3071\n",
            "86\t47\t0.3701\n",
            "87\t32\t0.2520\n",
            "88\t76\t0.5984\n",
            "89\t57\t0.4488\n",
            "90\t45\t0.3543\n",
            "91\t4\t0.0315\n",
            "92\t65\t0.5118\n",
            "93\t30\t0.2362\n",
            "94\t48\t0.3780\n",
            "95\t46\t0.3622\n",
            "96\t18\t0.1417\n",
            "97\t7\t0.0551\n",
            "98\t107\t0.8425\n",
            "99\t110\t0.8661\n",
            "100\t25\t0.1969\n",
            "El tamaño del ciclo es: 1\n"
          ],
          "name": "stdout"
        }
      ]
    },
    {
      "cell_type": "markdown",
      "metadata": {
        "id": "RsGdJnIoBLcA"
      },
      "source": [
        "**b)** $x_0=13, x_n = 5x_{n-1} \\mod 200$"
      ]
    },
    {
      "cell_type": "code",
      "metadata": {
        "id": "yC5lIc16EL-0",
        "colab": {
          "base_uri": "https://localhost:8080/"
        },
        "outputId": "4b998676-52be-4a0f-9033-52fe8a0cb008"
      },
      "source": [
        "N = 100\n",
        "\n",
        "a = 5.0\n",
        "b = 0.0\n",
        "m = 200.0\n",
        "x0 = 13.0\n",
        "\n",
        "[I,X,U] = genranN(a,b,m,x0,N)\n",
        "showValues(I,X,U)\n",
        "print(\"El tamaño del ciclo es: \"+str(tam_ciclo((np.array(X)).astype(int))))"
      ],
      "execution_count": null,
      "outputs": [
        {
          "output_type": "stream",
          "text": [
            "i\tXi\tUi\n",
            "1\t65\t0.3250\n",
            "2\t125\t0.6250\n",
            "3\t25\t0.1250\n",
            "4\t125\t0.6250\n",
            "5\t25\t0.1250\n",
            "6\t125\t0.6250\n",
            "7\t25\t0.1250\n",
            "8\t125\t0.6250\n",
            "9\t25\t0.1250\n",
            "10\t125\t0.6250\n",
            "11\t25\t0.1250\n",
            "12\t125\t0.6250\n",
            "13\t25\t0.1250\n",
            "14\t125\t0.6250\n",
            "15\t25\t0.1250\n",
            "16\t125\t0.6250\n",
            "17\t25\t0.1250\n",
            "18\t125\t0.6250\n",
            "19\t25\t0.1250\n",
            "20\t125\t0.6250\n",
            "21\t25\t0.1250\n",
            "22\t125\t0.6250\n",
            "23\t25\t0.1250\n",
            "24\t125\t0.6250\n",
            "25\t25\t0.1250\n",
            "26\t125\t0.6250\n",
            "27\t25\t0.1250\n",
            "28\t125\t0.6250\n",
            "29\t25\t0.1250\n",
            "30\t125\t0.6250\n",
            "31\t25\t0.1250\n",
            "32\t125\t0.6250\n",
            "33\t25\t0.1250\n",
            "34\t125\t0.6250\n",
            "35\t25\t0.1250\n",
            "36\t125\t0.6250\n",
            "37\t25\t0.1250\n",
            "38\t125\t0.6250\n",
            "39\t25\t0.1250\n",
            "40\t125\t0.6250\n",
            "41\t25\t0.1250\n",
            "42\t125\t0.6250\n",
            "43\t25\t0.1250\n",
            "44\t125\t0.6250\n",
            "45\t25\t0.1250\n",
            "46\t125\t0.6250\n",
            "47\t25\t0.1250\n",
            "48\t125\t0.6250\n",
            "49\t25\t0.1250\n",
            "50\t125\t0.6250\n",
            "51\t25\t0.1250\n",
            "52\t125\t0.6250\n",
            "53\t25\t0.1250\n",
            "54\t125\t0.6250\n",
            "55\t25\t0.1250\n",
            "56\t125\t0.6250\n",
            "57\t25\t0.1250\n",
            "58\t125\t0.6250\n",
            "59\t25\t0.1250\n",
            "60\t125\t0.6250\n",
            "61\t25\t0.1250\n",
            "62\t125\t0.6250\n",
            "63\t25\t0.1250\n",
            "64\t125\t0.6250\n",
            "65\t25\t0.1250\n",
            "66\t125\t0.6250\n",
            "67\t25\t0.1250\n",
            "68\t125\t0.6250\n",
            "69\t25\t0.1250\n",
            "70\t125\t0.6250\n",
            "71\t25\t0.1250\n",
            "72\t125\t0.6250\n",
            "73\t25\t0.1250\n",
            "74\t125\t0.6250\n",
            "75\t25\t0.1250\n",
            "76\t125\t0.6250\n",
            "77\t25\t0.1250\n",
            "78\t125\t0.6250\n",
            "79\t25\t0.1250\n",
            "80\t125\t0.6250\n",
            "81\t25\t0.1250\n",
            "82\t125\t0.6250\n",
            "83\t25\t0.1250\n",
            "84\t125\t0.6250\n",
            "85\t25\t0.1250\n",
            "86\t125\t0.6250\n",
            "87\t25\t0.1250\n",
            "88\t125\t0.6250\n",
            "89\t25\t0.1250\n",
            "90\t125\t0.6250\n",
            "91\t25\t0.1250\n",
            "92\t125\t0.6250\n",
            "93\t25\t0.1250\n",
            "94\t125\t0.6250\n",
            "95\t25\t0.1250\n",
            "96\t125\t0.6250\n",
            "97\t25\t0.1250\n",
            "98\t125\t0.6250\n",
            "99\t25\t0.1250\n",
            "100\t125\t0.6250\n",
            "El tamaño del ciclo es: 2\n"
          ],
          "name": "stdout"
        }
      ]
    },
    {
      "cell_type": "markdown",
      "metadata": {
        "id": "Kago6BQJBqvt"
      },
      "source": [
        "**c)** $x_0=2020,x_n = (15x_{n-1}+3) \\mod 21$"
      ]
    },
    {
      "cell_type": "code",
      "metadata": {
        "id": "nL1LD2VXxsor",
        "colab": {
          "base_uri": "https://localhost:8080/"
        },
        "outputId": "025cb2b3-dc1a-4d65-dfdb-65bb56574101"
      },
      "source": [
        "N = 100\n",
        "\n",
        "a = 15.0\n",
        "b = 3.0\n",
        "m = 21.0\n",
        "x0 = 2020.0\n",
        "\n",
        "[I,X,U] = genranN(a,b,m,x0,N)\n",
        "showValues(I,X,U)\n",
        "print(\"El tamaño del ciclo es: \"+str(tam_ciclo((np.array(X)).astype(int))))"
      ],
      "execution_count": null,
      "outputs": [
        {
          "output_type": "stream",
          "text": [
            "i\tXi\tUi\n",
            "1\t0\t0.0000\n",
            "2\t3\t0.1429\n",
            "3\t6\t0.2857\n",
            "4\t9\t0.4286\n",
            "5\t12\t0.5714\n",
            "6\t15\t0.7143\n",
            "7\t18\t0.8571\n",
            "8\t0\t0.0000\n",
            "9\t3\t0.1429\n",
            "10\t6\t0.2857\n",
            "11\t9\t0.4286\n",
            "12\t12\t0.5714\n",
            "13\t15\t0.7143\n",
            "14\t18\t0.8571\n",
            "15\t0\t0.0000\n",
            "16\t3\t0.1429\n",
            "17\t6\t0.2857\n",
            "18\t9\t0.4286\n",
            "19\t12\t0.5714\n",
            "20\t15\t0.7143\n",
            "21\t18\t0.8571\n",
            "22\t0\t0.0000\n",
            "23\t3\t0.1429\n",
            "24\t6\t0.2857\n",
            "25\t9\t0.4286\n",
            "26\t12\t0.5714\n",
            "27\t15\t0.7143\n",
            "28\t18\t0.8571\n",
            "29\t0\t0.0000\n",
            "30\t3\t0.1429\n",
            "31\t6\t0.2857\n",
            "32\t9\t0.4286\n",
            "33\t12\t0.5714\n",
            "34\t15\t0.7143\n",
            "35\t18\t0.8571\n",
            "36\t0\t0.0000\n",
            "37\t3\t0.1429\n",
            "38\t6\t0.2857\n",
            "39\t9\t0.4286\n",
            "40\t12\t0.5714\n",
            "41\t15\t0.7143\n",
            "42\t18\t0.8571\n",
            "43\t0\t0.0000\n",
            "44\t3\t0.1429\n",
            "45\t6\t0.2857\n",
            "46\t9\t0.4286\n",
            "47\t12\t0.5714\n",
            "48\t15\t0.7143\n",
            "49\t18\t0.8571\n",
            "50\t0\t0.0000\n",
            "51\t3\t0.1429\n",
            "52\t6\t0.2857\n",
            "53\t9\t0.4286\n",
            "54\t12\t0.5714\n",
            "55\t15\t0.7143\n",
            "56\t18\t0.8571\n",
            "57\t0\t0.0000\n",
            "58\t3\t0.1429\n",
            "59\t6\t0.2857\n",
            "60\t9\t0.4286\n",
            "61\t12\t0.5714\n",
            "62\t15\t0.7143\n",
            "63\t18\t0.8571\n",
            "64\t0\t0.0000\n",
            "65\t3\t0.1429\n",
            "66\t6\t0.2857\n",
            "67\t9\t0.4286\n",
            "68\t12\t0.5714\n",
            "69\t15\t0.7143\n",
            "70\t18\t0.8571\n",
            "71\t0\t0.0000\n",
            "72\t3\t0.1429\n",
            "73\t6\t0.2857\n",
            "74\t9\t0.4286\n",
            "75\t12\t0.5714\n",
            "76\t15\t0.7143\n",
            "77\t18\t0.8571\n",
            "78\t0\t0.0000\n",
            "79\t3\t0.1429\n",
            "80\t6\t0.2857\n",
            "81\t9\t0.4286\n",
            "82\t12\t0.5714\n",
            "83\t15\t0.7143\n",
            "84\t18\t0.8571\n",
            "85\t0\t0.0000\n",
            "86\t3\t0.1429\n",
            "87\t6\t0.2857\n",
            "88\t9\t0.4286\n",
            "89\t12\t0.5714\n",
            "90\t15\t0.7143\n",
            "91\t18\t0.8571\n",
            "92\t0\t0.0000\n",
            "93\t3\t0.1429\n",
            "94\t6\t0.2857\n",
            "95\t9\t0.4286\n",
            "96\t12\t0.5714\n",
            "97\t15\t0.7143\n",
            "98\t18\t0.8571\n",
            "99\t0\t0.0000\n",
            "100\t3\t0.1429\n",
            "El tamaño del ciclo es: 7\n"
          ],
          "name": "stdout"
        }
      ]
    },
    {
      "cell_type": "markdown",
      "metadata": {
        "id": "UObJsmyC3bY0"
      },
      "source": [
        "## **2. Usando números aleatorios para evaluar integrales.** ([*Sección 3.2, Capítulo 3* \\[Ross99\\]](https://drive.google.com/file/d/0B0MRo23s_UhyWkt6Z2V2dWc1d3M/view)) ##\n",
        "\n",
        "Use simulación para aproximar las siguientes integrales. Compare su estimación con la respuesta exacta si es conocida.\n",
        "### 2.1. ### \n",
        "$\\int_{0}^{1} \\textrm{exp}\\left \\{ e^{x} \\right \\}dx$"
      ]
    },
    {
      "cell_type": "code",
      "metadata": {
        "id": "_rGpcJENhPWj",
        "colab": {
          "base_uri": "https://localhost:8080/"
        },
        "outputId": "08bc0462-fce9-415c-b799-31164329795f"
      },
      "source": [
        "import math\n",
        "from scipy import stats\n",
        "import random\n",
        "import numpy as np\n",
        "\n",
        "def integral(N):\n",
        "  aux = 0\n",
        "  i = 0\n",
        "  np.random.seed(0)\n",
        "\n",
        "  while (i < N):\n",
        "    x = np.random.rand()\n",
        "    aux = aux + np.exp(np.exp(x))\n",
        "    i = i + 1\n",
        "  rta = aux / N\n",
        "  print(\"valor aproximado:\",rta)\n",
        "\n",
        "n=1000000\n",
        "integral(n)"
      ],
      "execution_count": null,
      "outputs": [
        {
          "output_type": "stream",
          "text": [
            "valor aproximado: 6.320725576424916\n"
          ],
          "name": "stdout"
        }
      ]
    },
    {
      "cell_type": "code",
      "metadata": {
        "colab": {
          "base_uri": "https://localhost:8080/",
          "height": 37
        },
        "id": "Jr64nrcYKiWi",
        "outputId": "c2d3ae2c-4c36-4689-da97-0fcb26a952be"
      },
      "source": [
        "from sympy import *\n",
        "import math\n",
        "\n",
        "x = Symbol('x')\n",
        "e = integrate(exp(exp(x)), (x,0,1))\n",
        "e.n()"
      ],
      "execution_count": null,
      "outputs": [
        {
          "output_type": "execute_result",
          "data": {
            "image/png": "[encoded data removed]",
            "text/latex": "$\\displaystyle 6.31656383902768$",
            "text/plain": [
              "6.31656383902768"
            ]
          },
          "metadata": {
            "tags": []
          },
          "execution_count": 75
        }
      ]
    },
    {
      "cell_type": "markdown",
      "metadata": {
        "id": "oX-p1rWaCvwx"
      },
      "source": [
        "### 2.2. ### \n",
        "$\\int_{0}^{1}{(1-x^2)^{\\frac{3}{2}}}dx$"
      ]
    },
    {
      "cell_type": "code",
      "metadata": {
        "id": "MWbohkiOX5Xa",
        "colab": {
          "base_uri": "https://localhost:8080/"
        },
        "outputId": "6c5e600d-3e7f-40ba-cc85-a965f3a663f2"
      },
      "source": [
        "import math\n",
        "import random\n",
        "import numpy as np\n",
        "\n",
        "def integral(N):\n",
        "  aux = 0\n",
        "  i = 0\n",
        "  np.random.seed(0)\n",
        "\n",
        "  while (i < N):\n",
        "    x = np.random.rand()\n",
        "    aux = aux + (1-(x**2))**(3/2)\n",
        "    i = i + 1\n",
        "  rta = aux / N\n",
        "  print(\"valor aproximado:\",rta)\n",
        "\n",
        "n=1000000\n",
        "integral(n)"
      ],
      "execution_count": null,
      "outputs": [
        {
          "output_type": "stream",
          "text": [
            "valor aproximado: 0.5885869398991268\n"
          ],
          "name": "stdout"
        }
      ]
    },
    {
      "cell_type": "code",
      "metadata": {
        "colab": {
          "base_uri": "https://localhost:8080/",
          "height": 37
        },
        "id": "BG66fuRyMXej",
        "outputId": "93e4b7b4-d5a3-4acd-dfb5-4f14d7daf519"
      },
      "source": [
        "from sympy import *\n",
        "import math\n",
        "\n",
        "x = Symbol('x')\n",
        "e = integrate((1-(x**2))**(3/2), (x,0,1))\n",
        "e.n()"
      ],
      "execution_count": null,
      "outputs": [
        {
          "output_type": "execute_result",
          "data": {
            "image/png": "[encoded data removed]",
            "text/latex": "$\\displaystyle 0.589048622548086$",
            "text/plain": [
              "0.589048622548086"
            ]
          },
          "metadata": {
            "tags": []
          },
          "execution_count": 74
        }
      ]
    },
    {
      "cell_type": "markdown",
      "metadata": {
        "id": "6SdjfUJ_uh3J"
      },
      "source": [
        "### 2.3. ### \n",
        "$\\int_{-2}^{2} {e^{x+x^2}} dx$"
      ]
    },
    {
      "cell_type": "code",
      "metadata": {
        "id": "YIyM2RuiwaNk",
        "colab": {
          "base_uri": "https://localhost:8080/"
        },
        "outputId": "a0f056d5-b239-4ae8-f6ac-5516bdfcb775"
      },
      "source": [
        "import math\n",
        "import random\n",
        "import numpy as np\n",
        "\n",
        "def G(x):\n",
        "    return np.exp(x+x**2)\n",
        "\n",
        "def integral(G, a, b, N):\n",
        "    np.random.seed(0)\n",
        "    aux = 0\n",
        "    for i in range(N):\n",
        "        aux += G(a + (b - a) * np.random.rand())\n",
        "    return ((b - a) / N) * aux\n",
        "\n",
        "a=-2\n",
        "b=2\n",
        "N=2000000\n",
        "integral(G,a,b,N)"
      ],
      "execution_count": 4,
      "outputs": [
        {
          "output_type": "execute_result",
          "data": {
            "text/plain": [
              "93.23634452955571"
            ]
          },
          "metadata": {
            "tags": []
          },
          "execution_count": 4
        }
      ]
    },
    {
      "cell_type": "code",
      "metadata": {
        "colab": {
          "base_uri": "https://localhost:8080/",
          "height": 37
        },
        "id": "-_FenX0IxwNh",
        "outputId": "c2d67ad9-956a-4c44-b4f2-32a9b4ce1bce"
      },
      "source": [
        "from sympy import *\n",
        "import math\n",
        "\n",
        "x = Symbol('x')\n",
        "e = integrate(exp(x+x**2), (x,-2,2))\n",
        "e.n()"
      ],
      "execution_count": 3,
      "outputs": [
        {
          "output_type": "execute_result",
          "data": {
            "text/latex": "$\\displaystyle 93.162753292442$",
            "text/plain": [
              "93.1627532924420"
            ]
          },
          "metadata": {
            "tags": []
          },
          "execution_count": 3
        }
      ]
    },
    {
      "cell_type": "markdown",
      "metadata": {
        "id": "HPcnL2-6xy9E"
      },
      "source": [
        "## **3. Estimación de $\\pi$.** ([Ejemplo 3a, Capítulo 3 \\[Ross99\\]](https://drive.google.com/file/d/0B0MRo23s_UhyWkt6Z2V2dWc1d3M/view)) ##\n",
        "\n",
        "Suponga dos variables aleatorias $X$ y $Y$ uniformemente distribuidas donde cada valor representan una coordenada aleatoria de un punto $(x,y)$ que cae en un cuadrado de área 4 centrado en el origen. Esto significa que es un cuadrado de lado $L=2$ que van de $-1$ a $1$ para el eje-x y el eje-y respectivamente. \n",
        "\n",
        "Considere ahora la probabilidad de que un punto aleatorio $(x,y)$ en el cuadrado este contenido en un circulo circunscrito de radio 1 (Ver Figura 1). \n",
        "Note que una vez que los puntos del vector conformado por las dos variables aleatorias $(X,Y)$ esta uniformemente distribuido en el cuadrado resulta que:\n",
        "\n",
        "$$\n",
        "\\begin{align*}\n",
        "P\\{(X,Y)\\: esta\\: en\\: el\\: circulo\\} &= P\\{X^2+Y^2\\leqslant 1\\}\\\\ \n",
        " &= \\frac{Area\\: del\\:  circulo}{Area\\: del\\: cuadrado} = \\frac{\\pi}{4}\n",
        "\\end{align*}\n",
        "$$\n"
      ]
    },
    {
      "cell_type": "markdown",
      "metadata": {
        "id": "ub-gPI7PU_AG"
      },
      "source": [
        "![image.png](data:image/png;base64,iVBORw0KGgoAAAANSUhEUgAAA1gAAALLCAYAAADkGiPxAAAgAElEQVR4AezdCZgVxb3w/9wn+Sc3d3lzt/fe94ZhEyVg1JjADCAg+y6IRBCVYCDBhUTEuF00GnAXxRWioBIJRolrVFRQvOKCGygICjpndmZhZxAYZFjq/9TRGWdO9TlzluruqurveR4fZjld9atPtTX1O11d/S3BCwEEEEAAAQQQQAABBBBAQIvAt7SUQiEIIIAAAggggAACCCCAAAKCBIuTAAEEEEAAAQQQQAABBBDQJECCpQmSYhBAAAEEEEAAAQQQQAABEizOAQQQQAABBBBAAAEEEEBAkwAJliZIikEAAQQQQAABBBBAAAEESLA4BxBAAAEEEEAAAQQQQAABTQIkWJogKQYBBBBAAAEEEEAAAQQQIMHiHEAAAQQQQAABBBBAAAEENAmQYGmCpBgEEEAAAQQQQAABBBBAgASLcwABBBBAAAEEEEAAAQQQ0CRAgqUJkmIQQAABBBBAAAEEEEAAARIszgEEEEAAAQQQQAABBBBAQJMACZYmSIpBAAEEEEAAAQQQQAABBEiwOAcQQAABBBBAAAEEEEAAAU0CJFiaICkGAQQQQAABBBBAAAEEECDB4hxAAAEEEEAAAQQQQAABBDQJkGBpgqQYBBBAAAEEEEAAAQQQQIAEi3MAAQQQQAABBBBAAAEEENAkQIKlCZJiEEAAAQQQQAABBBBAAAESLM4BBBBAAAEEEEAAAQQQQECTAAmWJkiKQQABBBBAAAEEEEAAAQRIsDgHEEAAAQQQQAABBBBAAAFNAiRYmiApBgEEEEAAAQQQQAABBBAgweIcQAABBBBAAAEEEEAAAQQ0CZBgaYKkGAQQQAABBBBAAAEEEECABItzAAEEEEAAAQQQQAABBBDQJECCpQmSYhBAAAEEEEAAAQQQQAABEizOAQQQQAABBBBAAAEEEEBAkwAJliZIikEAAQQQQAABBBBAAAEESLA4BxBAAAEEEEAAAQQQQAABTQIkWJogKQYBBBBAAAEEEEAAAQQQsDLBOnqkXjy9YKYoXLfM1x4s+eR1ccWF48RbSx/wtZ50C08nnpcevU188t6z6RbJ+xBAAAEEEEAAAQQQQECjgHUJ1lsv3C+6nNhRnHvGALFn+2caKb4pat2qJ+Llf/vvvyu+9a1vicfuu/qbX4bwVSbxfPDaIvHv//Ev4tdnDxcVn78dQrRUiQACCCCAAAIIIIBAdAWsSbBqSlaL4f27xROeudf/1pceW/nsfWJg7y7xOmRi1fBfWAlWtvF8/tFL4rj2eeL7//yPYs61F/hiRaEIIIAAAggggAAC5gpks+IrndVSQbc4nZhMW8FlRYIlr1R1/9nx8YTnlqt+pbVf6w9sE0/cf534yfEdGhOqhsSq4d8gEyxd8Wwr/0j8uGO7eJvunjlVqxmFIYAAAggggAACCJgrkOmKr0xWSwXV6kxiMm0Fl/EJlkw4Gq5cySTo0Je7tPXr+6/+SbTL+38i/+ROYkCvn4nv/P33PJOsoBIs3fHIe8dkkvh33/l2/J41bXAUhAACCCCAAAIIIGCcQKYrvrJdLeVnw7ONyaQVXEYnWPLS5nlnDm5Met7421yt/Vm7dZPYsXldY5mPz72msa6Gq1fy36ASLD/iOX3wKfE2fef73xNvPv/HxrbyBQIIIIAAAggggIA7Aumu+NK1WkqnnK6YTFnBZXSCdd+s3zYmPK1/+J9CJlx+vmTW3zSxavg6qAQrsW064nllyR2NbfqH//NPomzjG4nV8D0CCCCAAAIIIICAxQLprvjSvVpKB5numExYwWVsgrV/d4n4r//898bk4H+mjtfRhynLkHU2JFVN/w0rwdIRz8H9NeKf/+X/NLbr0l+fmdKAXyKAAAIIIIAAAgjYI5DJii8/VkvlKuVHTGGv4DI2wXpo9mWNSYFMdlY8cWeu/dfi8TIZaZpYNXwdVoKlK55fjBnU2C65s+DWsg9btOANCCCAAAIIIIAAAuYL5LLiS8dqKd1COmIKewWXkQmW3MiifZv/bkwKZKJT8sn/6u4/pTxdCY1ScJY/0BXPHb+/oJnl9Zf9MsuIOAwBBBBAAAEEEEDAFIFcV3zpWC2l20JHTHIOHeYKLiMTrKfm/6FZQiDvHfL7/it5cuhKaHSdaLrikVf/Gq7GyX//9d/+xbeHNOtqO+UggAACCCCAAAIIpBbIdcWXrrlm6igz+62umMJcwWVkgpX4sF/5DKwgXro6VFesuuIpWv9qswRLJllL5v1eV5iUgwACCCCAAAIIIBCwgI4VX7rmmjqbriumMFdwGZlgtW31X80SghEDuuvst6Rl6erQpBVk+Atd8XiVc/Vvz84wGt6OAAIIIIAAAgggYIqAjhVfXnNE+UF8WPsPSFtdMYW5gsu4BOvAFxXi7/6/7zRLsMaN7BvIuayrQ3UFqzOeb//9d5uZjj2tj64wKQcBBBBAAAEEEEAgYAEdK750zjV1NV9XTGGu4DIuwdr04YvNEgGZRU8aN1RXn6UsR1eHpqwkg1/qjOeffvDPzVy7nNgxg0h4KwIIIIAAAggggIBJAjpWfOmca+qy0RWTVzlBreAyLsFKvJwnE6yLfzk6aZ/t3vKpOHt0/7T+u/nKyUnLkb/w6ogwL5PqjOeH//UfzRIsmXDxQgABBBBAAAEEELBPQNeKL51zTV2KOmMKawWXcQnW/Tdd0iwRkAnOjN8kv19IPtNJvied//r3/GnKvtfZoSkrSvOXOuM5tl0rxUg+ZyDb1+srloqfDL+Q/zDgHOAcyPocOGHYVHH80N+JToNniOMGXic6DLhJdOh3u2jf517R5tT5onWvR0Trno+LvB5PidY9nhV53V8UP+y+XOR1+1/RKv9N0Sr/XZHX9QOR13WNaJX/kWjVdZ1o1fVjkddlvcjrslHkddn09b+fiFZd13/9+7UiL/8jkdd1tWiV/55oVbBK5BWsFK0KXhF5PV4WeT2eF3mnPCPyTlki2vRaLNr2flC06zNXHNN3jujQ/xZx3IBZ4keDrhadB18uThj226zbzvjJ3w/OAc4BeQ5cft3tWU3FdK340jnXzKohHgfpjCmsFVzGJViL7rpKSQT+Z+p4D/6vfkSClZSm2S86tP2h4lpV9F6z92TyDQkWfxiYHHAOJDsHThj2G9F58JXxZEQmJm1OfSCerMjEpVW3l79OjmSSU2j9f/HErWCVaNVthcjr8Zxo3fMx0bb3Q6J937vjCaNMxn489BISMT6I4BzgHPA8B7JNsDJd8ZVsjqczmUlWR6Y/1xlTWCu4jEuwVr38oJIIpFoiSIKV3mn7f//vvzVzlc8Wy+VFgsXkOtnkmp+7f26cMPw3ovOgq8Sx/W8U7U+976vkqcdzIq/gf7++OmR/4qQ7+YsnYvlvxa/Cyaty7U59QBzT7zbxo0HXiB8PneY58eL/Jff/X6KP6eNsE6xMV3wlm/PpTGaS1ZHpz3XGpHsFV7ptMS7BKtv4RrNEQC79S7XJhXwGwLpVT6T1X+G6ZSlddHZoyorS/KXOeL7/z//YzPXkHx+bZhTebyPB4o8CEwP3zwG5fE8uiWsnk6iefxGt5RK6/He+WnrnwNUn3UlUTuXJJY7dVojWpzwRXx4plyN2GnSVOHHYVJIvrnxwDjh8DmSbYGW64st7Nmfe/gMyTp3zX90ruJI5Jv7cuATr6JF68d1//H6zZOCsUf0S4/ble3nDoNe9XOk8C0Aut7v2kgliwpiBQj7YbMfmdTnHmEs8iZUnbn1/5ohTE9+S0fckWO5PrkmgotPHPx46/atEqs/c+BK3H3Z/RbTqutb65Xs5JTyGJJCtunwi8greiN8X1rb3AtGh/62i8+ArxInDonN+MhbR1y6fA9kmWJmu+Eo2ydOZzCSrI9Of64xJ9wqudNtiXIIlA+98XNtmic5pA3uk256c3rdn+2fN6m1Ith6588qU5VZ89pZI7ECZMRevX5HyuJZ+mW08ieXu3VWktCvXbSq9EqxsB4nEePkeAQT8Eyj6bK94aWmNuH52uThjSrHoNDAWXiKVXyg69o+J/NOLxICzi+LxTJpeIqZfWypmzS4X996/WTz6WJX42zPV4pWXt4g3/3ebeG/VDrFuzS6xaX2tKPl8r6gsrRM15XVie/WXYte2g2LPznpRt/ewqD9wRBw9IsShg0fFgf1HxL7aQ2L39nqxo/pLsbXygKgqqxPlRftE4cYvxPq1u8UH7+4Qb63cJlYs3yJeeK5GLFlSJR54eLO4+a4KccXMMjHl8lIx7qISMWRisThlTJE4fnBMtO0enl27njEx8Jwicel1ZeKxx6vEug93iYN1R/w7cSgZAQRyFtA5d8p0xVey4HUmM8nqyPTnOmPSvYIr3bYYmWDJK1YNyY3894QftU+3PTm9T+6q17Tehq/n3zI9ZblTJ57uedyYYb1THtfSL7ONJ7FcPx60pnOQSIyX7xFAQI/AtqovxcrXtoob55SLUZOLRYc+wSQErfNj4oTBXyUAv7ikRFxzU5mYt2CzePrp6ngSs2HtblFdXicO1x/V09AQS9m15aD4/NM98cTvxaU14qFHKuPe519ZKk6bVCy6jiwSMhkK4mpam4KYOHVckfjdH8ri1rGNX4QoQ9UIIJAooHPupGvFVy6rpfxYvSXNcokp0Vz3Cq7E8pN9b2SC9d4rC5slLN/5/vdE/YFtydqg7edr31rSrN6GBCvVLoay8iF98j2Pk8fL53Rl+8o2nsT6XllyR7P4/v0//kXIq2O5vHQOErnEwbEIIPCVgLxa88m63eLhRZXi15eViJ+dVuTrpL7zoJgY8oticcFVpeKOuRXxqz7yKlBF8X4nEifd55VMduWVMnmFbP7CSnH5zLL4FbsuI4tEm27+JWDH9o3F67n1ngqx6s3tYv+eQ7qbRnkIIJCmgO65k44VX9mulvJr9ZakzDamxG7wYwVXYh3JvjcywZLB9i44qVlSsGnN0mRt0PJz2QmndvtJszobEiy5h/6G955JWs/1l/3S8zh5/Lq3/5r0uFS/yCWexHJvm/HrZvHdctWvEt+S8fe6B4mMA+AABCIuIK/+rF29K35lSC5d8+PqlLzy0ntsUTxhu3NeRXyZ3qcf1zJJ13zuyb6Uyx3lEkWZIMtlf8MmFotOA/QnXvIql1xa+IfbysUbr22NL5vU3ByKQwCBJAK65046Vnxlu1rKr9Vbki7bmBLZ/VjBlVhHsu+NTbAS9/d/5sFZydqQ9c/l+tXTB58ST6wSH0TWkFw1/bf1D/9TDO/fTdnAQiZDQ/sWNCYxTe/H+vSD59KOT1c8iRWee8aAxthkO7dXrE18S8bf6x4kMg6AAxCIoIBcWnff/M3i9F8Vi2N665t8ty6Iie6jv0qk5H1Pr6/YGp/wy6tivMIVkFe+5H1nixZXxpf+DT63SG/f53+VRMtlnG+u3EbyHG53U7vjArrnTjpWfGW7Wsqv1VvyFMg2psTTx48VXIl1JPve2ARLri09qfMxjYnBz4fntutdMgCdP//swxdF2aY3xc7Kj+Nxf/vvvxvfalJnHZmWdbh+j/iv//z3RscZvzk70yI83697kPCshB8iEHEBudzuiSeqxeRLS8SP+utJqNr1iIn+44vEtGtKxeJHq8RHq3fFN4WIOLVVzZeJr7y/aukLNWLmbeXxhFvX1a62PWLxe8fu/mOFWP/R7vhGIVbhECwCBgv4MXfKZcVXLqul/Fi9Jbsul5gSu96PFVyJdST73tgESwa8/PHbxd9959vx5EBu3b6r5pNk7TDq53I5obzy1f1nx4ce1xt/m9uYXP3rv/2LqCx8R0tMfgwSWgKjEAQsFpA73r3z9nYx46YyUTBazz1UcpMFuQPewj9XxifMsg5ebgqUFe4TLzxfI666viy+DFAmS7lurtGxX0zInR2fe7Y6vlOjm3K0CoFgBPyYO2W64kvXaildq7ekvK6YEnvRjxVciXUk+97oBEsGfdcfLmpMEOZe/9tk7TDq57+fdm48ZpnchP2SV/5ksie3qVyz8lFt4fgxSGgLjoIQsEhALgGTu+vJ3fY65LjsT16dGn5esbjpzvL4luZyS3Je0RWQW9XLK5QP/qlSTJhWkvM9XXJ3SLmxiVxGumlDbXRhaTkCWQr4MXcKe8WXiau3ZPf4tYIr3a43PsGSDfndlDPjScIP/vUHYmvZh+m2LZT3xdYtF/I+p9FDeoZSf9NKGx5C952//554/el7m/4q56/9GCRyDooCELBEQG5oIO+lGnRukcjLL8z6KoO8D0vejyU3oJA7+PEcJEtOgBDDlEsL5XOz5E6TJw3N7QrXycNj4spZZeL9d3awlDDEPqVqewT8mjuZsOLLpNVb8ozwawVXumebFQmWzM7Hn94/nmSNPa1P6Pc1JcOVu5W0y/t/YtzIvqKutizZ2wL5eU3JB+K49nnxJZZPPnCd9jr9GiS0B0qBCBgi8NmGPWL2fRWi19jsl/7JB9vKK1QyoZI7CLrwHClDuieyYZQW7o0/VPm86SXxhz5nu6RQ3gN2ybWlYtUb2+IPd44sKA1HIIWAn3OnsFd8mbR6S3aBXyu4UnRvs19ZkWDJiOVDxy47f6yQz8Tqd8rJRl3Jkk+cnvW78+LJ1e3XnB+/LNlMOeBv5EYbJ//4WPHD//oP8fSCmb7U7ucg4UvAFIpACAIb19fGHzqby/1U3c8oEjNuKItvqb2vlmcYhdCNkalSbp4hN7aQG1zIhyRnew+XfPaWfNCyfMg19/xF5vShoWkI+D13CmvFl0mrt2Q3+LmCK41ujr/FmgSroUGxj1+JXyGSV2eqi99v+HGo/24r/0gsuuuq0K9aSYR3lz8k2rf5b3HzlZNzfphwKlS/B4lUdfM7BEwWkFcE7ppXIXqMye5KlXz2lHyulVzGVVlaZ3JTic1xgbq9h+Nb9ssrUycMyW45odwkY/q1pfElrI5z0TwEWhTwe+4Uxoovk1ZvyQ7wewVXi5389RusS7AaGrb69T+L0k9XNnzLv18LyKy9qug93z38HiR8bwAVIKBRYGvlgfguffIZRdkssTpxWCz+jKM3/3ebOLCfh09p7BqK0iggn8N2x9wKMeDs7O4dlPd8yQccf7Jut8aoKAoBewSCmDsFteLLtNVb8iwIYgVXumebtQlWug3kff4IBDFI+BM5pSKgR0Du0LZi2Zb41Sb5oN5MEyt5heuWuyvEpx+zG5ueHqGUIAVqKg7Er7KOnlIs2nTL/Pw/ZUyReODhzUJ+OMELgagIBDl38nvFl0mrt+T5E9QKrnTPVRKsdKV4XzOBIAeJZhXzDQIhC8j7quRzqrJ58G+fs4riywflTm68EHBFYNeWg+LZZ6rFWVNLMr5vq01BTJz9m5L4UkTu13LljKAdyQTCmDtFZcVXUCu4kvVt4s9JsBJF+D4tgTAGibQC400I+CCwe3u9+NPiSiETpEyvVJ06rkjMW7BZyIfA8kLAdYE9O+vF0hdqxHiZbHXP7MqW3Inw2lvKBR9AuH6WRLd9zJ2i0/ckWNHpa60tZZDQyklhhgqsX7tbXHx1qZAbT2SSWHUZWSRuvqtCFHKlytCeJawgBOSVrSVLquI7Emb6vDe5i+FLS2uEXIrLCwFXBJg7udKTLbeDBKtlI97hIcAg4YHCj5wQ2L/nkHjiiWrRf3xmV6vkp+9yO/V1a3Y54UAjENApIHfElPdcySu6mXxY0WlgLP6og/IirgDr7A/KCkeAuVM47mHUSoIVhroDdTJIONCJNKGZQMnne+MJUoc+6V+tkvePyKVQr73K836aYfINAikEsrqPMb9QjL2wRKx6c3uKkvkVAmYLMHcyu390RkeCpVMzQmUxSESosx1v6rurtseTpEyWMDXsgCZ3UuOFAALZCcjlf69msROnfPi2fE6cfE4XLwRsEmDuZFNv5RYrCVZufpE9mkEisl3vRMPls6aefKpa9Bqb/nIleR+WvB9r/Uc8w8eJk4BGGCVQXV4n7r1/s/jpiPSvIMuHGN9wR7nYXLLfqLYQDALJBJg7JZNx7+ckWO71aSAtYpAIhJlKNAvsqP5SzL6vQsj7pdK9D0Q+r2rhnyuF3EmQFwII+Ctw9IgQb67cFt/yvXV+ev+fyqW6v76shGfK+ds1lK5BgLmTBkRLiiDBsqSjTAuTQcK0HiGeVAIVxfvjz65KdzfAtj2+mrB98O6OVMXyOwQQ8FFA/n8rd+PsPDi9REt+aDJmSrF4/x3+v/WxWyg6BwHmTjngWXYoCZZlHWZKuAwSpvQEcaQS+GzDHnHBVaVCfsKdzhUruWOZvMLFvVWpVPkdAsEKyAcQv/B8jRhwdvpLegeeUyRWLNsi5BUxXgiYIsDcyZSe8D8OEiz/jZ2sgUHCyW51plHyPqmzppaklVTJxEs+QPjZZ6p55o4zZwANcVXgo9W7xKTpJaJ1mh+aFIwuEn97plocrj/qKgntskiAuZNFnZVjqCRYOQJG9XAGiaj2vNntls+gkls5p3O1St7fce7FJYJlgGb3KdEh4CUglw/Oml0uju2b3tVp+fDvp58m0fKy5GfBCTB3Cs467JpIsMLuAUvrZ5CwtOMcDVt+qv3z84vTSqzk/VWXXFsqij7b66gGzUIgOgL7ag+J+QsrxQlD0ku0fnZaUXwHUbnskBcCQQswdwpaPLz6SLDCs7e6ZgYJq7vPmeDlFaszpqSXWMkHCF8/u1zI7aB5IYCAWwLymVryClX30endpyW3g5ePamDpoFvngemtYe5keg/pi48ES59lpEpikIhUdxvXWLl5xTkXp7cUsPOgmJi7YDPbrBvXiwSEgD8Cr6/YKgafm16ilX96kVj+0hZ/AqFUBBIEmDslgDj8LQmWw53rZ9MYJPzUpexkAqWFe+O7AublF7a4HPD4wTHx8KJKIR8qzAsBBKIn8M7b28XQield4ZYb3ax6Y1v0kGhxoALMnQLlDrUyEqxQ+e2tnEHC3r6zMfKa8jpxxcwy0aZby/dZnDA4Jv60mMTKxn4mZgT8EHh31XYx/Lz0Ei35vg/f3+lHGJSJgGDuFJ2TgAQrOn2ttaUMElo5KSyJwP49h8ScuRWifa+WE6uThsbE4kerxME6rlgl4eTHCERaQD6A+LRJ6SVav7ikRJR8zkY4kT5hfGg8cycfUA0tkgTL0I4xPSwGCdN7yO745MNB5XOp5NWolrZc7zTgq6WAJFZ29znRIxCUgLyiNSiNe7TkFfNrbioTO6q/DCo06nFcgLmT4x3cpHkkWE0w+DJ9AQaJ9K14Z2YCcvJz6riWb1CXuwLeOa9CyG2aeSGAAAKZCsjNME4Z0/JYI5+1tWBhJQ8izxSY9ysCzJ0UEmd/QILlbNf62zAGCX99o1i6fC7VWVNb3hmwXY+YmHlbOZ8qR/Ekoc0IaBaQV8ufe7ZanDyi5avl8hlaMinjhUC2AsydspWz7zgSLPv6zIiIGSSM6AYngpBXoG6cUy7adk89wWmdHxMXX10qqsp4jpUTHU8jEDBIQD5HS26O07F/6nFILlkeM6VYxDZ+YVD0hGKLAHMnW3oq9zhJsHI3jGQJDBKR7HbtjX5xaU1a91nJhwlvWl+rvX4KRAABBJoK7N5eH79C3rZH6kRL3p8lr6Tv2Vnf9HC+RiClAHOnlDxO/ZIEy6nuDK4xDBLBWbtY08b1tWLEL1vezavHmCLx1kqeTePiOUCbEDBZoKxwn5j8u5aXLHceHBPPP1ttclOIzSAB5k4GdYbPoZBg+QzsavEMEq72rL/tkssBr72lXLQuSP3psNwZ8PHHq8Th+qP+BkTpCCCAQAqBtat3iSETWv4waNjEYvH5p3tSlMSvEBA8BytCJwEJVoQ6W2dTSbB0akajLHlzuHxWVapt19sUxMTvby4TcpkOLwQQQMAUAXmVSl6tSjV+yftIb76rQhzYz7P4TOk30+Jg7mRaj/gXDwmWf7ZOl8wg4XT3am3c5pL94tyLW15qM2pysfhsA58Aa8WnMAQQ0CYg77eS913J+69SJVpdRhaJVW9t11YvBbkjwNzJnb5sqSUkWC0J8XtPAQYJTxZ+2ERAbn/80COV4pjeqScjJw6LiVde3tLkSL5EAAEEzBWQOwjKnQRTJVnyd1MuLxU1FQfMbQiRBS7A3Clw8tAqJMEKjd7uihkk7O4/v6OXV6IGnpP6AZ7yU+Cb7iwXdXsP+x0O5SOAAALaBV57teVlzx37xcQLz9Vor5sC7RRg7mRnv2UTNQlWNmocw42anAOeAocOHhV3/7GixWdacUO4Jx8/RAABywTkxj3yvtGWNu4Zd1GJqCzlGX6Wda/2cEmwtJMaWyAJlrFdY3ZgDBJm908Y0X2ybrc4dVzqq1bH9o2JJ59iS+Mw+oc6EUDAP4ENa3eL/uNTj38d+jD++dcDdpTM3MmOftIRJQmWDsUIlsEgEcFOT9Lk+gNHxC13Vwi5A2CqexIuuKpUbK3kfoQkjPwYAQQsF5D3nf5pccv3nY6eUizKi/ZZ3lrCz0aAuVM2anYeQ4JlZ7+FHjWDROhdYEQAmzbUit5jU39qe/LwGDtqGdFbBIEAAkEIyKWAcklgqg+cOvSOib89w9X8IPrDpDqYO5nUG/7GQoLlr6+zpTNIONu1aTVMflI7f2GlaNsj9VWrK2aWCXmPAi8EEEAgagJycwu5LDpVojVhWonYVvVl1Ggi217mTtHpehKs6PS11pYySGjltKowubRlxC9Tb1HcdWSR+ODdHVa1i2ARQAAB3QI15XXiF5ekvprVaWBMvPHaVt1VU56BAsydDOwUn0IiwfIJ1vViGSRc72Hv9j37TLWQS1uSfSLbOj8mrruVrde99fgpAghEVUA+66/TgORjpxxTL7m2VMiHGfNyV4C5k7t9m9gyEqxEEb5PS4BBIi0mZ960e3u9mHxp6k9hTx4RE2ve3+lMm2kIAgggoFNALgU89+LU46i8+r9+7W6d1VKWQQLMnQzqDJ9DIcHyGdjV4hkkXO1ZtV0frVIUPeIAACAASURBVN4l5EYVya5a8cmrasZPEEAAgWQCLa0EaNs9JhYsrEx2OD+3WIC5k8Wdl2HoJFgZgvH2rwQYJNw/E+RGFvfN35xy+3XuHXD/PKCFCCCgXyCde1nPvKCYR1vopw+1ROZOofIHWjkJVqDc7lTGIOFOX3q1pKqsToyalHojC3a/8pLjZwgggEB6Aunsxtp5EI+5SE/Tjncxd7Kjn3RESYKlQzGCZTBIuNvpq97aLn7UP/mSwHY9Y+KJJ3h+i7tnAC1DAIEgBTaurxXdR6d+nqB8mLtMyHjZLcDcye7+yyR6EqxMtHhvowCDRCOFM1/IP95z5laIvPzCpPdb9RpbJD7/dI8zbaYhCCCAgAkC+/cciu8imOpe11GTi0VNxQETwiWGLAWYO2UJZ+FhJFgWdpoJITNImNAL+mKQu1uNmZJ6SeCVs8rEgf18hKpPnZIQQACB5gLLX9oiOvRJvoLg+MExsfo9dmttrmbPd8yd7OmrXCMlwcpVMKLHM0i40/Fyl8CThib/g96xX0y8voKHYLrT47QEAQRMFigr3CeGTEj+gVebgpiYzy6DJndh0tiYOyWlce4XJFjOdWkwDWKQCMbZ71oWLa4UbbolT67kH/nNJfv9DoPyEUAAAQSaCBw6eFTMml2edLm2XEoon6lVy4OJm6iZ/yVzJ/P7SFeEJFi6JCNWDoOE3R1+sO6I+M2M0pR/vH9/c5mQf+R5IYAAAgiEIyBXD6RaMig3xyja9EU4wVFrxgLMnTIms/YAEixruy7cwBkkwvXPpfbK0jox4OzkO1Yd0zsmXl22JZcqOBYBBBBAQJNAyed7RZ+zko/ZMgF7c+U2TbVRjJ8CzJ381DWrbBIss/rDmmgYJKzpqmaBrnl/p5APB062U5XcJZBPQ5uR8Q0CCCAQuoDcYGj6tSlWHeQXinvv3xx6nASQWoC5U2ofl35LguVSbwbYFgaJALE1VfX441Up77e64KpSUbf3sKbaKAYBBBBAQLfA356pFm17JP+QbOL0ErGv9pDuailPkwBzJ02QFhRDgmVBJ5kYIoOEib3iHdPh+qPiquvLkl61al0QEw8vqvQ+mJ8igAACCBglsH7t7pQ7v/YeWyQqitmcyKhO+zoY5k4m9oo/MZFg+ePqfKkMEnZ08e7t9Smfb9Wxf0y8u2q7HY0hSgQQQACBuIB84PCwicm3cu88KCbWfbgLLcMEmDsZ1iE+hkOC5SOuy0UzSJjfu6WFe0X3M5LfGC0/5Swv2md+Q4gQAQQQQEARkLu8ygfAJ7untl2PmHjlZTYsUuBC/AFzpxDxA66aBCtgcFeqY5Awuyc/fH+n+FH/5Ov0f31ZCfdbmd2FRIcAAgikJfDUU9Wibffk4/3df6xIqxze5L8Acyf/jU2pgQTLlJ6wLA4GCXM77IXna1LeBH3nPP7Ymtt7RIYAAghkLiB3iE31oZrcxKj+wJHMC+YIrQLMnbRyGl0YCZbR3WNucAwSZvbNHx/cnHK5yLIXa8wMnKgQQAABBHISkM/Lkg8eTrZkcNSkYiHvy+UVngBzp/Dsg66ZBCtocUfqY5AwqyOPHhEp1+LLZ1+tW8MNz2b1GtEggAACegVkAnXGlOSbX8hnHcqHzfMKR4C5UzjuYdRKghWGugN1MkiY04ny2VXnXlyS9FNL+QeVLXvN6S8iQQABBPwUkI/muGJm8s0vThoaE59t2ONnCJSdRIC5UxIYB39MguVgpwbRJAaJIJRbrmN79ZdiyITkn1aOvbBE7NnJkpCWJXkHAggg4JaAfL5hXn6h54dvHfrExAfv7nCrwRa0hrmTBZ2kKUQSLE2QUSuGQSL8HpdXpfJPT77efto1pUJ+kskLAQQQQCCaAq8u25J006O2PWJC/p5XcALMnYKzDrsmEqywe8DS+hkkwu242MYvhFzmkexm5jvmslNguD1E7QgggIAZAqvf2ymO7ev996J1fkw8+VS1GYFGIArmThHo5K+bSIIVnb7W2lIGCa2cGRW2fu3upNvxti7gj2VGmLwZAQQQiIBAofxQbrh3kiU/qJu/sDICCuE3kblT+H0QVAQkWEFJO1YPg0Q4Hfr+OzvEMb29/0i27xUTb63cFk5g1IoAAgggYLRAdXmd6D02+bLym+4sNzp+F4Jj7uRCL6bXBhKs9Jx4V4IAg0QCSADfrnxta9K19B37sQ17AF1AFQgggIDVArU768WIXybfGOmymWVCPvaDlz8CzJ38cTWxVBIsE3vFgpgYJILtpJeW1gi5/M/rnqvjB7PlbrC9QW0IIICAvQIH9h8RZ01N/miPKZezQZJfvcvcyS9Z88olwTKvT6yIiEEiuG56/tlqIW9E9kquuowsEmWF+4ILhpoQQAABBKwXOHTwqDj/ylLPvyvyb81500uEfA8vvQLMnfR6mlwaCZbJvWNwbAwSwXSO3N0p2XNM5AOEa8rrggmEWhBAAAEEnBOYcVPyBxKfc3GJqD/AekGdnc7cSaem2WWRYJndP8ZGxyDhf9c89nhV0k8X5cOFd2076H8Q1IAAAggg4LTA7Psqkv6tGXdRiZBLCnnpEWDupMfRhlJIsGzoJQNjZJDwt1MW/rky6R+80yYVi321h/wNgNIRQAABBCIj8McHNyf9m3PGlGJRt/dwZCz8bChzJz91zSqbBMus/rAmGgYJ/7rqoUeSJ1en/4o/dP7JUzICCCAQXYFUf3tGTS7mSpaGU4O5kwZES4ogwbKko0wLk0HCnx5Z/GjyZYFjL2Sphj/qlIoAAgggIAUefSz536AxU4rFwTqWC+ZypjB3ykXPrmNJsOzqL2OiZZDQ3xVLliT/w3b2b7jZWL84JSKAAAIIJAo88UTyzZXkPVlsfJEolv73zJ3St7L9nSRYtvdgSPEzSOiFf/rp6qTr3yeyXa5ebEpDAAEEEEgp8LdnkidZcndBtnBPyZf0l8ydktI49wsSLOe6NJgGMUjoc37huZqkW7Hzh0yfMyUhgAACCKQvkOqDP/mcrMP1PCcrfc2v3sncKVMxe99PgmVv34UaOYOEHv5Xl21J+hBhlmLoMaYUBBBAAIHsBFItXZ9yRak4yi1ZGcEyd8qIy+o3k2BZ3X3hBc8gkbv9qje3i7bdY55LA7mZOHdfSkAAAQQQyF0g1cYXV84qy72CCJXA3Ck6nU2CFZ2+1tpSBoncOD9avVO06+mdXLEdbm62HI0AAgggoFfg4UXJHx9yy90VeitzuDTmTg53bkLTSLASQPg2PQEGifScvN61cX2tOLavd3I1/LxisX8PDxH2cuNnCCCAAALhCdz/UPKHES9YWBleYBbVzNzJos7KMVQSrBwBo3o4g0R2PV/y+V7RaaB3ctV/fJGo3VmfXcEchQACCCCAgM8C8mpVXtdCz/+eeqra59rtL565k/19mG4LSLDSleJ9zQQYJJpxpPVNVVmdOHm4d3LVbXSR2Fb1ZVrl8CYEEEAAAQTCEpD3XXklWa3zY2LF8i1hhWVFvcydrOgmLUGSYGlhjF4hDBKZ9bm8MtV7bJHnH6WThsfE5pL9mRXIuxFAAAEEEAhBQO4cOOXyUs+/Z217xMSa93eGEJUdVTJ3sqOfdERJgqVDMYJlMEik3+nyqfen/6rY849RpwExUfTZ3vQL450IIIAAAgiELCAfNCwfJeJ1JUveY1y48YuQIzSzeuZOZvaLH1GRYPmhGoEyGSTS7+Tzr/T+pK9Dn5j49OPa9AvinQgggAACCBgicGD/ESE3ZvJKsuTKDLksnldzAeZOzT1c/o4Ey+Xe9bFtDBLp4d44p9zzj49cRvHBuzvSK4R3IYAAAgggYKDA7u31oueZ3svf5bJ4Nm5q3mnMnZp7uPwdCZbLvetj2xgkWsZd/GiVZ3KVl18olr/EjcAtC/IOBBBAAAHTBeQ9xCcN9d7ASS6Pl8sJeX0lwNwpOmcCCVZ0+lprSxkkUnO+uXKbkDsqeS2dkA9s5IUAAggggIArAp9t2CPksnevv3nTril1pZk5t4O5U86E1hRAgmVNV5kVKINE8v6QDxI+prf3H5o/3Fae/EB+gwACCCCAgKUCctm7XP7ulWTJhxTzEoK5U3TOAhKs6PS11pYySHhz1pTXiROHef+B+fVlJd4H8VMEEEAAAQQcEJDL3+UyeCXJyi8Ur7261YEW5tYE5k65+dl0NAmWTb1lUKwMEmpn1O09LAae432z79CJxeJg3RH1IH6CAAIIIICAQwIPPLxZTbC6Fop2PWNiw9rdDrU086Ywd8rczNYjSLBs7bmQ42aQUDtg0nTvZ4L87LQisa3qS/UAfoIAAggggICDApdc6/14kuMHx0RlaXS3b2fu5ODJnqRJJFhJYPhxagEGieY+s++r8PzETt70ywMXm1vxHQIIIICA2wJy58BRk7yfkdV3fJGQKz6i+GLuFJ1eJ8GKTl9rbSmDxDeccl25st68a6FoUxAT77y9/Zs38hUCCCCAAAIREdi15aDIP9172fyUK6K5syBzp4ic/EIIEqzo9LXWljJIfMUpt6ZNtmPgkiVVWs0pDAEEEEAAAZsEij7bKzr28974af7C6D2yhLmTTWdvbrGSYOXmF9mjGSSEkJ/OdRnp/enctbewHXtk/+eg4QgggAACjQJy+3a5oiNxpYd8VuSqt6K1yoO5U+Np4fwXJFjOd7E/DYz6IHH0iBBjpnivLx81uVgcrufJ9f6ceZSKAAIIIGCbwKOPVSkJlky4ju0bEyWf77WtOVnHG/W5U9ZwFh5IgmVhp5kQctQHietnl3v+sTh5REzsqGbHQBPOUWJAAAEEEDBHINnOgqeMKRL7ag+ZE6iPkUR97uQjrXFFk2AZ1yV2BBTlQWLF8i2eyZV8xsfG9bV2dCBRIoAAAgggEKBA/YEjYvC53svqf3V5NDa9iPLcKcBTzYiqSLCM6Ab7gojqICFv2O3QW11LLpc6vPLyFvs6kogRQAABBBAISKC6vE7IZ2El3o8lv1/8qPsbQ0V17hTQ6WVUNSRYRnWHPcFEcZCQz+3oNdb707eb7mRTC3vOXiJFAAEEEAhLYO3qXaJtDzXJats9Jtat2RVWWIHUG8W5UyCwBlZCgmVgp9gQUhQHid/M8H4y/egpxUJuesELAQQQQAABBFoWePxx700vThwWE9sdvo85inOnls8GN99BguVmv/reqqgNEk8+Ve25pOGEITGxrYpNLXw/4agAAQQQQMApgQuu8v7Q8ufnu/uhZdTmTk6dsBk2hgQrQzDe/pVAlAaJT9bt9lzO0KZbTHy02u3lDJzvCCCAAAII+CGwf88hIXcQ9Lof6655FX5UGXqZUZo7hY4dcgAkWCF3gK3VR2WQkH8ACkZ7/wFY+OfoPYXe1vOVuBFAAAEEzBOIbfxCHOOxcVTrgphY8/5O8wLOMaKozJ1yZHLicBIsJ7ox+EZEZZD47dXeSxgmTS8JHp0aEUAAAQQQcExA7sDrdRXrpKExsWvLQadaG5W5k1OdlmVjSLCyhIv6YVEYJF5cWuM56HcZVST27KyP+ilA+xFAAAEEENAiMOOmMs+/txOmufVhZhTmTlpOCAcKIcFyoBPDaILrg0TJ597Pu5LbyG5YuzsMcupEAAEEEEDASYGDdUfEqeO8l+P/5TF3no/l+tzJyZMzy0aRYGUJF/XDXB4kDh08Kgac7T3QP7yI+66ifu7TfgQQQAAB/QLyfqz2vTyej9UjJjatr9VfYQglujx3CoHT6CpJsIzuHnODc3mQuOGOcs+lCuMucmupgrlnF5EhgAACCERR4G/PeD8SpfsZReLAfvsfOOny3CmK52uqNpNgpdLhd0kFXB0kVr+3U+TlFyoJ1vGDed5V0pOBXyCAAAIIIKBJYMoV3ptL/f7mMk01hFeMq3On8ETNrZkEy9y+MToyFwcJuXHFT0eoyxNkwvXeqh1G9wfBIYAAAggg4IKA/FvcZaT3Mv13V223uokuzp2s7hAfgyfB8hHX5aJdHCQuTrIl+41zyl3uStqGAAIIIICAUQLrPtwl2hSoH3jGt27fZu/W7S7OnYw6cQwKhgTLoM6wKRTXBonXV2xVlgXK53LIXY3qD9i/7tumc4tYEUAAAQQQuGNuheffZbmE0NaXa3MnW/shiLhJsIJQdrAOlwaJmooDotMA9ZOytj1i4rMNexzsPZqEAAIIIICA2QKH64+Kged4LxVc/tIWs4NPEp1Lc6ckTeTHXwuQYHEqZCXg0iBxzsUlnp+SPfgntmTP6uTgIAQQQAABBDQIFG36QrTrqX4AemzfmKgpr9NQQ7BFuDR3ClbOvtpIsOzrMyMidmWQeGlpjWdyNWpSsRHOBIEAAggggECUBR59rMrz7/SEafY9OsWVuVOUz8d0206Cla4U72sm4MIgsbXygOjYX/1krEOfmKgo3t+svXyDAAIIIIAAAuEI/Pz8Ys8ka9mLNeEElGWtLsydsmx65A4jwYpcl+tpsAuDxKTp3ksDn32mWg8SpSCAAAIIIIBAzgKVpXVCfvgpN59q+t+P+tv1jEoX5k45d2ZECiDBikhH626m7YPEimVbmg3SDQP2mRewNFD3uUJ5CCCAAAII5Crw1FPVnn+3J//OnqWCts+dcu3DKB1PghWl3tbYVpsHiR3VX3ruGtihN0sDNZ4iFIUAAggggIBWgTFTvJcKvvbqVq31+FWYzXMnv0xcLZcEy9We9bldNg8SF/1PqeenYEuWVPmsRvEIIIAAAgggkK2AvD/6mN7qUsHOg2Ji9/b6bIsN7Dib506BITlSEQmWIx0ZdDNsHSTeXbXdM7kaNZmlgUGfQ9SHAAIIIIBApgKPPe69q+BlM8syLSrw99s6dwocyoEKSbAc6MQwmmDjIHGw7ojoMkp9aGH7XjFRVrgvDEbqRAABBBBAAIEMBUZO8lgqmF8oPlq9K8OSgn27jXOnYIXcqY0Ey52+DLQlNg4St95T4Xn1igcKB3rqUBkCCCCAAAI5CRR9tle07aEuFex5ZpE4dPBoTmX7ebCNcyc/PVwumwTL5d71sW22DRKxjV+Itt3VwbjPWUXicL25g7GPXUjRCCCAAAIIWCtw1zzvD03nLdhsbJtsmzsZC2lBYCRYFnSSiSHaNkiM+KW6nKB1fkysX7vbRF5iQgABBBBAAIEUAvUHjojuZ6jL/tv1jInSwr0pjgzvV7bNncKTsr9mEiz7+zCUFtg0SMgHBzc856rpvzNuMv+G2FA6l0oRQAABBBCwQGD1ezs9/76Pu8jMZ2PZNHeyoPuNDpEEy+juMTc4WwYJuW1rp4Hq0sAThsTEnp3mb+lq7hlAZAgggAACCIQvMO0a70evvPGaec/GsmXuFH6v2h8BCZb9fRhKC2wZJH5/c5nnp1u2PJQwlM6lUgQQQAABBCwR2LXloOg0QP0gtcvIIiF3DzbpZcvcySQzW2MhwbK150KO24ZB4rMNe0SbAnXQHXuhmUsHQu5SqkcAAQQQQMBKgaef9r4VQG6EYdLLhrmTSV42x0KCZXPvhRi7DYPEKI/nZMidBIs2fRGiHFUjgAACCCCAgG6BQed6b3hRUbxfd1VZl2fD3CnrxnFgMwESrGYcfJOugOmDxPKXtnguDbxxTnm6TeR9CCCAAAIIIGCJgNwVOC+/UPnbf950c1atmD53sqSrrQiTBMuKbjIvSJMHibq9h8VJQ9WlgXJji321h8zDJCIEEEAAAQQQyFlg+rXeG168t2pHzmXrKMDkuZOO9lHGNwIkWN9Y8FUGAiYPEskePvjS0poMWshbEUAAAQQQQMAmgW1VX4pj+6ofsJ46rkgcNWC/C5PnTjb1sw2xkmDZ0EsGxmjqIFFTXieO6a0OrqdNKjZQkZAQQAABBBBAQKfA4kerlGWC8hmYciOMsF+mzp3CdnGxfhIsF3s1gDaZOkhc4rU8IL9QfPpxbQAqVIEAAggggAACYQocrj8qeoxRN7w4YXBM7N8T7m0Cps6dwuwvV+smwXK1Z31ul4mDxKYNtaJ1vnr16rdXl/qsQfEIIIAAAgggYIrAWyu3eV7FumNuuNu2mzh3MqXPXIuDBMu1Hg2oPSYOEmOmFCsDarueMVFVVheQCtUggAACCCCAgAkCZ3jMCdr3CndOYOLcyYS+cjEGEiwXezWANpk2SKx6w/vTqtn3hftpVQBdQRUIIIAAAgggkCCwab15q1pMmzslkPGtRgESLI2YUSrKtEGi91h1vfXxBqy3jtI5QVsRQAABBBAwScDrvmx5K0Hhxi9CCdO0uVMoCBGplAQrIh2tu5kmDRIvLq1RlgaasmOQbnfKQwABBBBAAIH0BJLtLDxhWjgPHzZp7pSeIO/KVoAEK1u5iB9nyiBx6OBR0XWkevWq55lmPPMi4qcJzUcAAQQQQCBUAXmrgPzQNfG/dR/uCjwuU+ZOgTc8ghWSYEWw03U02ZRB4vHHvZ938cZrW3U0kzIQQAABBBBAwGKBPTvrxY/6qzsMj5oc/PMxTZk7Wdyd1oROgmVNV5kVqAmDRN3ew0LeZ5X4qdSQXwQ/aJrVO0SDAAIIIIAAAg0CD/6pUpkryLnDu29vb3hLIP+aMHcKpKFUIkiwOAmyEjBhkPjjg5s9B8wP3t2RVZs4CAEEEEAAAQTcEzhYd0ScOEz9QHbA2UWBNtaEuVOgDY5wZSRYEe78XJoe9iAhL/l37KcOlj8/n6tXufQrxyKAAAIIIOCiwFNPVXt+KPv6iuBuKQh77uRiv5raJhIsU3vG8LjCHiTum+999WrD2t2GyxEeAggggAACCAQtcLj+qOg2Wt0Uq+/44K5ihT13Cto8yvWRYEW593Noe5iDxL7aQ6Kjxw2r500PZ9vVHBg5FAEEEEAAAQQCElj+0hbPq1grA9oYK8y5U0DEVPO1AAkWp0JWAmEOEnMXeF+92rShNqu2cBACCCCAAAIIREPglDHqVaz+AV3FCnPuFI3eNaeVJFjm9IVVkYQ1SMirV17brXL1yqrTh2ARQAABBBAIRSDZVawgHu8S1twpFOiIV0qCFfETINvmhzVIzEt29Wo9V6+y7UuOQwABBBBAICoCR48I0SOkq1hhzZ2i0rcmtZMEy6TesCiWMAaJ/XsOiU4D1J0Df3EJ915ZdOoQKgIIIIAAAqEKLHuxxvNerDdXbvM1rjDmTr42iMKTCpBgJaXhF6kEwhgkFv7Z+0GBG7l6laqr+B0CCCCAAAIINBGQV7G6n6HeizV0or+Peglj7tSk2XwZoAAJVoDYLlUV9CBx6OBRcdJw9erVhGlcvXLpvKItCCCAAAIIBCHw4lLvq1gfvr/Tt+qDnjv51hAKblGABKtFIt7gJRD0IPHcs94PCFzPc6+8uoefIYAAAggggEAKAXkVq+tI9SrWWVP9++A26LlTiubzK58FSLB8Bna1+KAHCa9tVUdN9vdSvqt9R7sQQAABBBBAQIjHH6/yvBfrsw17fOEJeu7kSyMoNC0BEqy0mHhTokCQg4TcOjWva6Hy3ztvb08Mi+8RQAABBBBAAIG0BA7WHRGdB6m3H1xwVWlax2f6piDnTpnGxvv1CpBg6fWMTGlBDhJDJhYryVVQDwWMTIfSUAQQQAABBCIoMNfj8S9tCmKioni/do0g507ag6fAjARIsDLi4s0NAkENEh+t3qUkV/JqlnxQIC8EEEAAAQQQQCAXgd3b60WHPupVrN/fXJZLsZ7HBjV38qycHwYqQIIVKLc7lQU1SEyaXqIkWF1GFQl5cyovBBBAAAEEEEAgV4HrZ5crcw2ZdO3ZWZ9r0c2OD2ru1KxSvglFgAQrFHb7Kw1ikJCX51sXqJ8q/eWxKvsBaQECCCCAAAIIGCFQXV4n2nZX5xsPL6rUGl8QcyetAVNY1gIkWFnTRfvAIAaJWR6fKB3bNyb27zkUbXxajwACCCCAAAJaBc6/slS5itVlpN4VM0HMnbSiUFjWAiRYWdNF+0C/BwmZRMlkKnH3QHkZnxcCCCCAAAIIIKBTYMPa3cqcQ85BXl+xVVs1fs+dtAVKQTkLkGDlTBjNAvweJB59TH02hdzVZ3OJ/l19otmDtBoBBBBAAAEEmgoM89i1+LRJ+p656ffcqWlb+DpcARKscP2trd3vQaJgtPp09cm/8+/p6tZ2BIEjgAACCCCAgBaBFcu2eF7F2ri+Vkv5fs+dtARJIVoESLC0MEavED8HCfkA4cSlgfL7dWt2RQ+aFiOAAAIIIIBAIAJyh+KfjlBvT5h+rZ4HD/s5dwoEiErSFiDBSpuKNzYV8HOQmDBN3Zp98LlFTavnawQQQAABBBBAQLvA/IWVyoe8x/SOiVoNW7b7OXfSDkGBOQmQYOXEF92D/RokqsrqhLzXKvEK1nPPVkcXm5YjgAACCCCAQCACu7YcFO16qPOQRYtz37Ldr7lTIDBUkpEACVZGXLy5QcCvQeKOuRVKctWxf0wcrOPJwg32/IsAAggggAAC/glMnaFu2d7zzNxX0vg1d/JPgpKzFSDBylYu4sf5MUgcrj8qThqqfmp03a1szR7x043mI4AAAgggEJjAug93KR/2ypU1a97fmVMMfsydcgqIg30TIMHyjdbtgv0YJF57davngFby+V63MWkdAggggAACCBgl0OcsdTfjX12e22YXfsydjEIjmEYBEqxGCr7IRMCPQeLn5xcrCdboKfqeP5FJ+3gvAggggAACCERXYMkS9XmcbXvExPbqL7NG8WPulHUwHOirAAmWr7zuFq57kJAPEG6dry4PXLF8i7uItAwBBBBAAAEEjBTYv+eQ6NBHnZc89Ej2m13onjsZCUdQcQESLE6ErAR0DxJ3zVM3t+g8OCbkfVm8EEAAAQQQQACBoAUun1mmrKzpPTb7zS50z52C9qC+9AVIsNK34p1NBHQPEl1HqmudZ81mc4sm5HyJAAIIIIAAAgEKbFi7W0mw5GYX8ufZvHTPnbKJgWOCESDBCsbZuVp0DhIfvLvDcwCLbfzCOTcahAACCCCAkCY+zQAAIABJREFUAAL2CPQaq34AfOWssqwaoHPulFUAHBSYAAlWYNRuVaRzkPB63sSQCWxu4dYZQ2sQQAABBBCwT+DBP1UqHwJ37Jfd8zl1zp3sk4xWxCRY0epvba3VNUjsqz0k2vdSbyL961+rtMVKQQgggAACCCCAQDYC26q+FG26qfOUZS/WZFycrrlTxhVzQOACJFiBk7tRoa5B4umnq5VPhtr1jIk9O+vdgKIVCCCAAAIIIGC1wLkXlyhzlbEXlmTcJl1zp4wr5oDABUiwAid3o0Jdg4R8zpW8YbTpfxdclduD/NwQphUIIIAAAgggYILAG69tbTZPkXOWNgWZPxNL19zJBBNiSC1AgpXah98mEdAxSNSU13k+++qdt7cnqZUfI4AAAggggAACwQrIR8Z0GqAuE1z8aGa3M+iYOwXbcmrLVoAEK1u5iB+nY5CQD+treuVKfi2ffXX0SMRxaT4CCCCAAAIIGCVwhcczsYZMzGxDLh1zJ6NQCCapAAlWUhp+kUpAxyAx8Bx169Nrbspu69NUsfI7BBBAAAEEEEAgF4GPVu9UPhSWHwyXF+1Lu1gdc6e0K+ONoQqQYIXKb2/luQ4SJZ/v9Ryo1n+U3cP77JUkcgQQQAABBBCwQeDkEeoywXvv35x26LnOndKuiDeGLkCCFXoX2BlAroPEHXMrlASry6giOzGIGgEEEEAAAQScF7hxTrkyd+l5Zvpzl1znTs4DO9RAEiyHOjPIpuQ6SPQYoy4PnH1PRZBNoC4EEEAAAQQQQCBtgc8/3aMkWHKZoPx5Oq9c507p1MF7zBAgwTKjH6yLIpdBIrbxC88BqmjTF9Y5EDACCCCAAAIIREeg11j1A2K5KiedVy5zp3TK5z3mCJBgmdMXVkWSyyBx5zx1eaAcsHghgAACCCCAAAImC+Qyh8ll7mSyCbGpAiRYqgk/SUMgl0Hi1HHZf/qTRmi8BQEEEEAAAQQQ8EUg2SocuXlXS69c5k4tlc3vzRIgwTKrP6yJJttBorTQe/fAdNcvWwNEoAgggAACCCDgpED3M9QPiu+b3/JugtnOnZxEdLxRJFiOd7Bfzct2kJi3YLNy/1W30SwP9KufKBcBBBBAAAEE9Arccrd6q0P/8S3PZbKdO+mNntKCECDBCkLZwTqyHSS8Hi58053lDgrRJAQQQAABBBBwUWDj+lrlw2K5m2BF8f6Uzc127pSyUH5ppAAJlpHdYn5Q2QwS1eV1ngPSJ+t4uLD5PU6ECCCAAAIIINAg0HWkukzw4UWVDb/2/DebuZNnQfzQeAESLOO7yMwAsxkkliypUhIs+VR0XggggAACCCCAgE0CM29THzo8ekpxyiZkM3dKWSC/NFaABMvYrjE7sGwGibOmligJ1owbysxuKNEhgAACCCCAAAIJAmve36nMadp2j4k9O+sT3vnNt9nMnb45mq9sEiDBsqm3DIo100HiwP4jol3PmDIYrXpru0GtIhQEEEAAAQQQQKBlgaNHhOjYX53XvLpsS9KDM507JS2IXxgvQIJlfBeZGWCmg8SbK7cpydUxvWOi/sARMxtIVAgggAACCCCAQAqBKZeXKnObqTNKkx6R6dwpaUH8wngBEizju8jMADMdJC6bWaYMQhOmlZjZOKJCAAEEEEAAAQRaEHhpaY0yt+k0IPm95ZnOnVqonl8bLECCZXDnmBxapoPEScPVy+hPP11tchOJDQEEEEAAAQQQSCqwe3u9aFOgzm/Wrt7leUymcyfPQvihFQIkWFZ0k3lBZjJIfLZhj/IJT15+odhaecC8hhERAggggAACCCCQpsBpk4qVOc6t91R4Hp3J3MmzAH5ojQAJljVdZVagmQwSCxZWKoOPfOAwLwQQQAABBBBAwGaB+x/arMxxhkzw3q49k7mTzSbELgQJFmdBVgKZDBI/P1/9dOfmu7w/3ckqGA5CAAEEEEAAAQRCENi0vlZJsFoXxIRcPpj4ymTulHgs39slQIJlV38ZE226g4TcJbB9L3V98gfv7jCmLQSCAAIIIIAAAghkK9B5sDrPWbFc3a493blTtnFwnDkCJFjm9IVVkaQ7SLy3aofyyY7cnv3QwaNWtZdgEUAAAQQQQAABL4EpV6jbtf/uD2XKW9OdOykH8gPrBEiwrOsyMwJOd5C44Y5yJcEadxHbs5vRi0SBAAIIIIAAArkKPPdstTLX6TpSvdc83blTrvFwfPgCJFjh94GVEaQ7SPQfX6QMOgv/XGllmwkaAQQQQAABBBBIFKgpr1PmOnldC0VZ4b5mb0137tTsIL6xUoAEy8puCz/odAaJXdsOCrkduxxkmv4X2/hF+A0gAgQQQAABBBBAQJNAzzPVD5T/+teqZqWnM3dqdgDfWCtAgmVt14UbeDqDxOsrtjZLrGSSddLQ5E84D7dF1I4AAggggAACCGQncM1NZcqcR96b1fSVztyp6fv52l4BEix7+y7UyNMZJK67Vb3/6leXNx9sQm0ElSOAAAIIIIAAAhoEvD5UPnl48w+V05k7aQiFIgwQIMEyoBNsDCGdQcLr/qvHH29+udzGthMzAggggAACCCDQVGDXFu/bIiqK9ze+LZ25U+Ob+cJqARIsq7svvOBbGiT21R4SbQrU50Jw/1V4fUbNCCCAAAIIIOCfQK+x6n1Yzz5T3VhhS3OnxjfyhfUCJFjWd2E4DWhpkHhr5TZlLXLnQc0vlYcTObUigAACCCCAAAL6Ba6Yqd6H9durv7k1oqW5k/6IKDEsARKssOQtr7elQeLGOer9V+dN5/lXlnc74SOAAAIIIIBAEoHlL21RPlxu+jysluZOSYrlxxYKkGBZ2GkmhNzSIDFkYrEyyPxpMc+/MqHviAEBBBBAAAEE9AtsrTygzH3kDsryOVny1dLcSX9ElBiWAAlWWPKW15tqkDhcf1S066nef7Vpfa3lrSZ8BBBAAAEEEEAguUDBaPU+rBXLt8QPSDV3Sl4iv7FRgATLxl4zIOZUg8SGtbuVT3A69I6Jo0cMCJwQEEAAAQQQQAABnwQu+p9SZQ40a3Z5vLZUcyefwqHYkARIsEKCt73aVIPEosWVyuAyclKx7U0mfgQQQAABBBBAIKXAo49VKXOg4ed9NQdKNXdKWSi/tE6ABMu6LjMj4FSDhHxyuVxz3PQ/uekFLwQQQAABBBBAwGWBT9apq3iO+XoVT6q5k8smUWwbCVYUe11Dm1MNEl1GqeuP5RPOeSGAAAIIIIAAAi4LyPvQ2/dS70P/9ONaNrlwueMT2kaClQDCt+kJJEuwdlR/2ezKVcNVLLmzDi8EEEAAAQQQQMB1AbkksGH+0/DvXx6rIsFyveObtI8EqwkGX6YvkCzBetPjAcMnj+ABw+nL8k4EEEAAAQQQsFlAbmrRkFg1/Dt1RikJls2dmmHsJFgZgvH2rwSSJVh3zqtQBpXJl/KAYc4bBBBAAAEEEIiGwIpl6gOHe40tIsGKRvfHW0mCFaHO1tnUZAnWhGklSoL1xwc366yashBAAAEEEEAAAWMFKor3K3OhNt1i4rXlL4ifDL+w2X+XX3e7se0gsOwFSLCyt4v0kckSrJ+dpm5w8c7b2yNtReMRQAABBBBAIFoCHfupG1089MiyZsmVTLZIsNw8L0iw3OxX31vllWBNmzFH+cRGrj3eteWg7/FQAQIIIIAAAgggYIqAfP5nw/1XDf9eef3rJFimdJDPcZBg+QzsavFeCdY5Uxcog8lJw9ngwtVzgHYhgAACCCCAgLfAtbeoG12cecHbJFjeXM79lATLuS4NpkFeCdbgc5coCdb4qWxwEUyPUAsCCCCAAAIImCLw/LPVypyo4PTVJFimdJDPcZBg+QzsavFeCVaXUS8rg8nseypcJaBdCCCAAAIIIICAp8Dnn+5R5kRte3wqThzGJheeYI79kATLsQ4NqjleCdZx/VYpg8nrK7YGFRL1IIAAAggggAACRggcPSJEu57qRhedh1zW7CoWm1wY0V3agyDB0k4ajQITEyz5iUzrgvVKglVWuC8aILQSAQQQQAABBBBoItB3vLqz8rH9byDBamLk6pckWK72rM/tSkyw5CcyDbvkNPzbvhcbXPjcDRSPAAIIIIAAAoYKTLmiVJkbteszlwTL0P7SGRYJlk7NCJWVmGDJT2QaEquGf+UnN7wQQAABBBBAAIEoCtw3f7MyN2rd83ESrAicDCRYEehkP5qYmGDJT2QaEquGf+UnN7wQQAABBBBAAIEoCsj70BvmRA3/tuq2ggQrAicDCVYEOtmPJiYmWPITmYbBo+Hfe+/f7EfVlIkAAggggAACCBgvUFq4V5kbteq6jgTL+J7LPUASrNwNI1lCYoLVquAVZRBhB8FInho0GgEEEEAAAQS+FmhpJ0F2EXTzVCHBcrNffW+VkmB1XaskWCWf7/U9DipAAAEEEEAAAQRMFTh1nLqT4HEDZjVexSLBMrXncouLBCs3v8ge3TTB+vHQ6Upy1bZHTMhnQPBCAAEEEEAAAQSiKjD50hJljtS+790kWI6fECRYjnewX81rmmB1HHitMngUjGYHQb/sKRcBBBBAAAEE7BC46c5yZY7UttcjJFh2dF/WUZJgZU0X7QObJlgd+t2uDB5jLyyJNhCtRwABBBBAAIHICzz9dLUyR8rr8RwJluNnBgmW4x3sV/OaJlhtey9QBo8ZN5T5VTXlIoAAAggggAACVgiseX+nMkfKK3iDBMuK3ss+SBKs7O0ifWTTBKv1KU8og8fCP1dG2ofGI4AAAggggAACWysPKHOkvC7rxYnDLownWWxy4eY5QoLlZr/63qqmCZbXFu1vrdzmewxUgAACCCCAAAIImC7QoXdMSbKOH/o7EizTOy6H+EiwcsCL8qFNE6y8rmuUgaPoM7Zoj/L5QdsRQAABBBBA4CuB3mO9tmqfSYLl8AlCguVw5/rZtIYE64Rhv1GSq9b5MXG4/qif1VM2AggggAACCCBghcC5F3ts1d7vdhIsK3ovuyBJsLJzi/xRDQlW50FXKgnWCYNjkfcBAAEEEEAAAQQQkAJy46+8roXN/mtz6gMkWA6fHiRYDneun01rSLDk08gTB42B5/AMLD/tKRsBBBBAAAEE7BF44OHNylypTc+/kGDZ04UZR0qClTEZB0iBhgTrmL5zlEFj4nSegcVZggACCCCAAAIISIFlL9Yoc6W8Hi+QYDl8epBgOdy5fjatIcFqc+p8ZdD4/c08A8tPe8pGAAEEEEAAAXsEPlq9S5krNTwLi23a7enHTCIlwcpEi/c2CjQkWK17PqYMGgsW8gysRii+QAABBBBAAIFIC1SX1ylzpVZd13EFy+GzggTL4c71s2kNCVZe96XKoPHqsi1+Vk3ZCCCAAAIIIICAVQJtu6vPwjph2DTBFSyrujHtYEmw0qbijU0FGhOsgjeUBGvdml1N38rXCCCAAAIIIIBApAVOHq4mWJ0GXUWC5ehZQYLlaMf63azGBMvjIcMVxfv9rp7yEUAAAQQQQAABawTkDsuJuy4fN2AmCZY1PZhZoCRYmXnx7q8FZIJ14rCLRF6XTcqAUX/gCE4IIIAAAggggAACXwuMu0h92PCx/W4jwXL0DCHBcrRj/W6WTLCOH3Kpklwd25eHDPttT/kIIIAAAgggYJfAxVeXKnOm9n3uJcGyqxvTjpYEK20q3thUQCZYPxp0tTJY5J/OQ4abOvE1AggggAACCCBw45xyZc7UtvdDJFiOnhokWI52rN/NkgnWcQNmKYPFkInFfldN+QgggAACCCCAgFUCDy+qVOZM8lE37CJoVTemHSwJVtpUvLGpgEywOvS7XRksJkwrafo2vkYAAQQQQAABBCIv8OLSGmXOlNfjORIsR88MEixHO9bvZskEq12fucpgcdnMMr+rpnwEEEAAAQQQQMAqgfdW7VDmTK26rSDBsqoX0w+WBCt9K97ZREAmWHLtcOKWozffVdHkXXyJAAIIIIAAAgggsGlDrTJnalWwigTL0VODBMvRjvW7WTLBatNrsTJYzF9Y6XfVlI8AAggggAACCFglUFlap8yZ8rquIcGyqhfTD5YEK30r3tlEQCZYrU95Qhksnnyqusm7+BIBBBBAAAEEEECgbu9hZc7UqssnJFiOnhokWI52rN/NkglWXo/nlcFixbItfldN+QgggAACCCCAgHUCbbvHlHnTJVfPsa4dBNyyAAlWy0a8w0NAJlg/7L5cGSjeXbXd4938CAEEEEAAAQQQiLZApwFqgnXBFfdEG8XR1pNgOdqxfjcrfgWr4A0lwfpk3W6/q6Z8BBBAAAEEEEDAOoGuI4uUedOkS+ZZ1w4CblmABKtlI97hIRBPsPI/UAaK8qJ9Hu/mRwgggAACCCCAQLQF+o9XE6yzpy6INoqjrSfBcrRj/W6WTLBadf1YSbB2b6/3u2rKRwABBBBAAAEErBMYNblYmTedef5C69pBwC0LkGC1bMQ7PATiV7C6bFIGisP1Rz3ezY8QQAABBBBAAIFoC5w1tUSZN42e/Ei0URxtPQmWox3rd7NeeXmpMkjI3XF4IYAAAggggAACCKgCky9VE6zTfrlYfSM/sV6ABMv6LgynAS88pyZYHXqTYIXTG9SKAAIIIIAAAqYL/GZGqfLh9JBfPGZ62MSXhQAJVhZoHCLEk0+8rAwSnQaSYHFuIIAAAggggAACXgKXzyxT5k4Dz/mr11v5meUCJFiWd2BY4T/6FzXB+ukIEqyw+oN6EUAAAQQQQMBsgT/cVq4kWH3HP2120ESXlQAJVlZsHPTQwmXKINF9dBEwCCCAAAIIIIAAAh4Ct95Tocydep/5jMc7+ZHtAiRYtvdgSPHPXfCKMkj0HU+CFVJ3UC0CCCCAAAIIGC5w3/zNytyp+5jnDY+a8LIRIMHKRo1jxN3z1ARryIRiZBBAAAEEEEAAAQQ8BBYsrFQTrNFLPd7Jj2wXIMGyvQdDin/OfWqCNXQiCVZI3UG1CCCAAAIIIGC4wMOL1AQr/3QSLMO7LavwSLCyYuOg2+95VfkUZsQvSbA4MxBAAAEEEEAAAS+BRYvVBKvr6S96vZWfWS5AgmV5B4YV/i13qQnWqEkkWGH1B/UigAACCCCAgNkCf3msSvlwusuol80OmuiyEiDByoqNg266c4UySIyeQoLFmYEAAggggAACCHgJ/PWvaoL1s5HLvN7KzywXIMGyvAPDCv+GOWqC9fPzSbDC6g/qRQABBBBAAAGzBZ56qlr5cPrkEcvNDproshIgwcqKjYNm3qYmWOMuKgEGAQQQ8E2g5JPXxcxLJ4ouJ3YUP/jXH4jv/dM/iGPbtRKTzxom3n5xvm/1UjACCCCgQ+Bvz3gkWMNf0VE0ZRgmQIJlWIfYEs4fblUTrPFTSbBs6T/iRMAmgaNH6sXNV04W3/3H74tvfetbSf8bMaC7qCp6z6amESsCCERI4Pln1QTrJyRYTp4BJFhOdqv/jZo1+zXlMjdXsPx3pwYEoiZwuH6PGH96/6RJVWLC1b7Nf4ui9a9GjYn2IoCABQJcwbKgkzSFSIKlCTJqxXAPVtR6nPYiEI7AtZdMSDu5aki2fnJ8B7F3V1E4AVMrAgggkETgSY97sH7KJhdJtOz+MQmW3f0XWvTsIhgaPRUjEBmBTz94Tvzdd76dcYIlEy25pJAXAgggYJLAkiXsImhSf/gZCwmWn7oOl81zsBzuXJqGgCECvxgzKKvkSiZY//SDf+YqliH9SBgIIPCVAM/Bis6ZQIIVnb7W2tLb71EfNDz8PLZp14pMYQhEWKD+wLZ4ktSw7C+bf1c8eVeEBWk6AgiYJrBocaVy/3rX0180LUzi0SBAgqUBMYpF3Dn3FWWQGDKRBCuK5wJtRsAPgXWrnsj66lVDMvb7aef6ERplIoAAAlkJPLxITbDyT1+aVVkcZLYACZbZ/WNsdHf/UU2wBp/LTeXGdhiBIWCZwGtP3p1zgjVp3FDLWk24CCDgssD8hWqC1X00CZaLfU6C5WKvBtCmeQvUBKvveBKsAOipAoFICJBgRaKbaSQCkRK4b/5mZfVP9zHPR8ogKo0lwYpKT2tu50MLl6mDxGgSLM3MFIdAZAU+XvVkzlewWCIY2dOHhiNgpMAtd1coc6feZz5jZKwElZsACVZufpE9+tG/vKwMEicPj0XWg4YjgIBeATa50OtJaQggEL7AdbeWK3OnfuOfDD8wItAuQIKlnTQaBT71pJpgdRpIghWN3qeVCAQjwDbtwThTCwIIBCNw+cwyJcEaeM5fg6mcWgIVIMEKlNudyl54bqkySHToTYLlTg/TEgTCF+BBw+H3AREggIA+gakzSpW505BfPKavAkoyRoAEy5iusCuQV15WE6w23Uiw7OpFokXAfIFrL5mQ8b1YPzm+Aw8ZNr9riRCByAlMml6iJFgjf7k4cg5RaDAJVhR62Yc2vr5iqcjrskkZKA7XH/WhNopEAIGoChyu3yPGn94/7SSrfZv/FkXrX40qF+1GAAGDBc6aqiZYoyc/YnDEhJatAAlWtnIRP04mWK26fqwkWLu310dchuYjgIBugaNH6sXNV04W3/3H76dMtEYM6C6qit7TXT3lIYAAAloERk0qVuZNZ56/UEvZFGKWAAmWWf1hTTTxK1j5HygDRXnRPmvaQKAIIGCXQMknr4uZl04UXU7sKH7wrz8Q3/unfxDHtmslJp81TLz94ny7GkO0CCAQOYH+44uUedM5UxdEziEKDSbBikIv+9DGeIJV8IYyUHyybrcPtVEkAggggAACCCBgt0DXkWqCNemSeXY3iug9BUiwPFn4YUsCMsH6YfflSoL17qrtLR3K7xFAAAEEEEAAgcgJdBoQU+ZNF1xxT+QcotBgEqwo9LIPbYxfwerxvDJQrFi2xYfaKBIBBBBAAAEEELBboG13NcG65Oo5djeK6D0FSLA8WfhhSwIywWp9yhNKgvXkU9UtHcrvEUAAAQQQQACBSAnU7T2szJladflEXH7d7ZFyiEpjSbCi0tOa2ykTrDa9FiuDxfyFlZprojgEEEAAAQQQQMBugcrSOmXOlNd1NQmW3d2aNHoSrKQ0/CKVgEyw2vZ+SBksbr6rItVh/A4BBBBAAAEEEIicwKYNtcqcqVX+WyRYjp4JJFiOdqzfzZIJVrs+c5XB4rKZZX5XTfkIIIAAAggggIBVAu+t2qHMmVp1W0GCZVUvph8sCVb6VryziYBMsDr0u10ZLCZMK2nyLr5EAAEEEEAAAQQQeHFpjTJnyuvxHAmWo6cGCZajHet3s2SCddyAWcpgMWRisd9VUz4CCCCAAAIIIGCVwEOPVCpzptY9HyPBsqoX0w+WBCt9K97ZREAmWD8adLUyWHQZVdTkXXyJAAIIIIAAAgggcOOccmXOJO9lZxdBN88NEiw3+9X3VskE6/ghlyqDxbF9Y77XTQUIIIAAAggggIBNAhdfXarMmdr3uZcEy6ZOzCBWEqwMsHjrNwIywTpx2EUir8smZcCoP3DkmzfyFQIIIIAAAgggEHGBcReVKPOlY/vdRoLl6HlBguVox/rdLJlg/WT4hSKv6xplwKgo3u939ZSPAAIIIIAAAghYIzDg7CJlvnTcgJkkWNb0YGaBkmBl5sW7vxZoTLAK3lAGjHVrduGEAAIIIIAAAggg8LXAycNjynyp06CrSLAcPUNIsBztWL+b1ZhgdV+qDBivLtvid/WUjwACCCCAAAIIWCPQtruaYJ0wbBoJljU9mFmgJFiZefHurwUaEiy5xWhe18Jm/y1YWIkTAggggAACCCCAgBCiuryu2TxJzptadV0Xv9WCXQTdPEVIsNzsV99b1ZBgtTl1vjJo/P7mMt/rpwIEEEAAAQQQQMAGgY9W71LmSnkFb5Bg2dB5WcZIgpUlXNQPa0iwjuk7Rxk0Jk4viToP7UcAAQQQQAABBOICy16sUeZKeT1eIMFy+PwgwXK4c/1sWkOCddyAWcqgMfAcHjbspz1lI4AAAggggIA9Ag88vFmZK7Xp+RcSLHu6MONISbAyJuMAKdCQYHUefKUyaJwwmIcNc5YggAACCCCAAAJSYMYNZcpcqc2pD5BgOXx6kGA53Ll+Nq0hwTph2G+UQaN1fkwcrj/qZ/WUjQACCCCAAAIIWCFw7sXqQ4bb97udBMuK3ssuSBKs7Nwif1RDgpXsYcNFn+2NvBEACCCAAAIIIIBA77HeDxmWcyh2EXTz/CDBcrNffW9V0wSrVcErylWsN1du8z0GKkAAAQQQQAABBEwX6NBbfQbW8UN/xxUs0zsuh/hIsHLAi/KhTROs1qc8oSRYC//Ms7CifH7QdgQQQAABBBAQYmvlAWWOlNdlvThx2IUkWA6fICRYDneun01rmmC17b1AGTzkDZ28EEAAAQQQQACBKAuseX+nMkdqeAYWSwTdPTNIsNztW19b1jTB6tDvdmXwGHshz8LytQMoHAEEEEAAAQSMF3j66WpljpTX47n41SsSLOO7L+sASbCypov2gU0TrI4Dr1UGj4LRPAsr2mcIrUcAAQQQQACBm+4sV+ZIbXs9QoLl+KlBguV4B/vVvKYJ1o+HTlcHjx4xcfSIX7VTLgIIIIAAAgggYL7A5Es9tmjvezcJlvldl1OEJFg58UX34KYJlrzE3arrWiXJKvmcrdqje4bQcgQQQAABBBA4dZzXFu2zSLAcPzVIsBzvYL+apyRYHlu1v75iq1/VUy4CCCCAAAIIIGC8QLueybdo5x4s47sv6wBJsLKmi/aBiQlW656PK1ew7r1/c7SRaD0CCCCAAAIIRFZAruTJ61rY7L9WXdc1Xr0iwXL31CDBcrdvfW1ZYoLVrs/cZgOIHFCmXFHqawwUjgACCCCAAAIImCogV/IoCVbBKyRYpnaYxrhIsDRiRqmoxATr2P43KINIn7PYSTBK5wRtRQABBBBAAIFvBORKnsQES674kVeuGv67/LrbvzmAr5wRIMFypiuDbUhigtV5yGWOazgHAAAgAElEQVTKINK+VyzYoKgNAQQQQAABBBAwRECu5ElMsOSKn4bkiiWChnSUD2GQYPmAGoUiExOsE4ddKFoXrFcGktJCdhKMwvlAGxFAAAEEEECguUDf8eoOgnLFDwlWcycXvyPBcrFXA2hTYoIlB4vj+q1SEix2EgygM6gCAQQQQAABBIwSkM8C9dpBUK74IcEyqqt8CYYEyxdW9wv1SrC6jHpZSbBm31PhPgYtRAABBBBAAAEEmgh8/ukeZU7UtsenQq74IcFqAuXolyRYjnas383ySrAGn7tEGUzGTy3xOxTKRwABBBBAAAEEjBJ4/tlqZU5UcPrqZsmVTLTY5MKobtMWDAmWNspoFeSVYJ0zdYEymJw0nI0uonVm0FoEEEAAAQQQuPaWcmVOdOYFb5NgReTUIMGKSEfrbqZXgjVtxhxlMJG75+zaclB39ZSHAAIIIIAAAggYKzByUrEyJ7ry+tdJsIztMb2BkWDp9YxMaV4JlrzM/bPT1B1z3nl7e2RcaCgCCCCAAAIIINCxX0xJsB56ZBkJVkRODRKsiHS07mYmS7AmTCtRBpQ/PrhZd/WUhwACCCCAAAIIGClQUbxfmQu16RYTry1/gQTLyB7THxQJln7TSJSYLMG6c16FMqhMvpSNLiJxUtBIBBBAAAEEEBArlm1R5kK9xhaJZHMnyNwTIMFyr08DaVGyQeLNlduUQeXkEWx0EUinUAkCCCCAAAIIhC4w8zZ1g4upM0pJsELvmeACIMEKztqpmpIlWDuqv1QSLLnRxdbKA061n8YggAACCCCAAAJeAsPPUze4+MtjVSRYXliO/owEy9GO9btZyRIsWW+XUepGF6+v2Op3SJSPAAIIIIAAAgiEKnC4/qho30vd4OLTj2tJsELtmWArJ8EK1tuZ2lIlWFOuKFWuYt04p9yZttMQBBBAAAEEEEDAS+CTdbuVOdAxvWPi6BFBguUF5ujPSLAc7Vi/m5UqwVq0uFIZXOTzIHghgAACCCCAAAIuCzz6WJUyBxrxy6/mQKnmTi6bRLFtJFhR7HUNbU41SGxYm/zTGw1VUwQCCCCAAAIIIGCkwAVXqat4Zs3+ahVPqrmTkY0hqKwFSLCypov2gakGCbn+uF1Pdf3xpvW10Uaj9QgggAACCCDgtEDBaPU+9BXLt8TbnGru5DRKBBtHghXBTtfR5JYGiaET1R10/rS4UkfVlIEAAggggAACCBgnIHdMljsnJ/5XU14Xj7WluZNxDSKgrAVIsLKmi/aBLQ0SclOLxAFm4nQeOBzts4bWI4AAAggg4K7A8pfUBwx3HVnU2OCW5k6Nb+QL6wVIsKzvwnAa0NIg8ZbHA4c7D+KBw+H0FrUigAACCCCAgN8CV8wsUz5c/u3VpY3VtjR3anwjX1gvQIJlfReG04CWBol9tYdEmwL1PqzYxi/CCZhaEUAAAQQQQAABHwV6jVXvv3r2merGGluaOzW+kS+sFyDBsr4Lw2lAOoNE//HqQPP441XhBEytCCCAAAIIIICATwK7thwUefnq/VcVxfsba0xn7tT4Zr6wWoAEy+ruCy/4dAaJ625V78P61eXfXCoPL3pqRgABBBBAAAEE9Am8vmKrsjzw5OHNb41IZ+6kLyJKClOABCtMfYvrTmeQ8BpsThrafLCxmIDQEUAAAQQQQACBuMA1N6n3X025ovmHyunMneB0Q4AEy41+DLwV6QwSu7Z5Xy7nPqzAu4sKEUAAAQQQQMBHgZ5nqrdF/PWvzW+LSGfu5GOIFB2gAAlWgNguVZXuIOF1H9bDi3gelkvnAm1BAAEEEEAgygLyOVeJj6aR35cV7mvGku7cqdlBfGOlAAmWld0WftDpDhI33KHehzXuIp6HFX4PEgECCCCAAAII6BD42zPVSoLV9PlXDXWkO3dqeD//2itAgmVv34UaebqDxHurdiiDzjG9Y+LQwaOhxk/lCCCAAAIIIICADgF5r1XiFazLZpYpRac7d1IO5AfWCZBgWddlZgSc7iBRf+CIaN9LfR7WB+/uMKMhRIEAAggggAACCOQg0HmwOs9ZsXyLUmK6cyflQH5gnQAJlnVdZkbAmQwSZ15QrHyyc/NdFWY0hCgQQAABBBBAAIEsBTatr1XmOK0LYmL39nqlxEzmTsrB/MAqARIsq7rLnGAzGSQWLKxUBp+B5xSZ0xgiQQABBBBAAAEEshC4/6HNyhxnyIRiz5IymTt5FsAPrREgwbKmq8wKNJNB4rMNe5TBRz7tfGvlAbMaRTQIIIAAAggggEAGAqdNUlfp3HqP9yqdTOZOGYTAWw0UIMEysFNsCCnTQeKk4er65KeeqrahqcSIAAIIIIAAAggoAnIZYJsCdX6zdvUu5b3yB5nOnTwL4YdWCJBgWdFN5gWZ6SAhd9NJ3GFnwjS2azevZ4kIAQQQQAABBNIReHFpjTK36TQwlvTQTOdOSQviF8YLkGAZ30VmBpjpIPHmym3KICS3a5e7DPJCAAEEEEAAAQRsE5hyubo9+9QZpUmbkencKWlB/MJ4ARIs47vIzAAzHSQO1h0R7Xqql9FXvbXdzAYSFQIIIIAAAgggkETg6BEhOvZX5zWvLlO3Z28oItO5U8Nx/GufAAmWfX1mRMTZDBLjp5YoV7Guul59EJ8RDSQIBBBAAAEEEEAgicCa93cqc5q2PWJiz051e/aGIrKZOzUcy792CZBg2dVfxkSbzSCxZEmVMhidPCL5WmVjGksgCCCAAAIIIIBAE4GZt5Urc5rRU7y3Z284LJu5U8Ox/GuXAAmWXf1lTLTZDBLV5XXKYCQ3vtiwdrcx7SIQBBBAAAEEEECgJYGuI4uUOc3DiypTHpbN3CllgfzSWAESLGO7xuzAsh0k5AOGE3cTvHFOudmNJToEEEAAAQQQQOBrgY3ra5W5jJzbVBTvT2mU7dwpZaH80kgBEiwju8X8oLIdJOYtUJ943m10kfkNJkIEEEAAAQQQQEAIcfNdFUqC1X98y3OZbOdOoNsnQIJlX58ZEXG2g0Rp4V5lUJKf+nz+6R4j2kUQCCCAAAIIIIBAKoHuZ6irce6bvznVIfHfZTt3arFg3mCcAAmWcV1iR0C5DBKnjlMHpjvmVtjRcKJEAAEEEEAAgcgKxDZ+4flBccnne1s0yWXu1GLhvMEoARIso7rDnmByGSTunKdeWu81tuVL6/boECkCCCCAAAIIuCiQyxwml7mTi5Yut4kEy+Xe9bFtuQwSyT79Kdr0hY8RUzQCCCCAAAIIIJCbgPxAOHGzrnRX4eQyd8otao4OWoAEK2hxR+rLdZDoMUYdoGbfwzJBR04PmoEAAggggIBzAvJ+8cTkKpP7yHOdOzkH6nCDSLAc7lw/m5brICE/7UkcpLqMYpmgn31G2QgggAACCCCQvYB8rEzi3KXnmenPXXKdO2UfOUcGLUCCFbS4I/XlOkjIm0ETByn5/fqPeOiwI6cIzUAAAQQQQMApgZNHxJS5y733t7x7YANCrnOnhnL413wBEizz+8jICHUMEl4PHb7mpjIj20tQCCCAAAIIIBBdgY9W71SSK/nBcHnRvrRRdMyd0q6MN4YqQIIVKr+9lesYJB56pFIZrDoPjomjR+x1IXIEEEAAAQQQcE/gipllypxlyMTijBqqY+6UUYW8OTQBEqzQ6O2uWMcgUVNeJ1oXqJfb33l7u904RI8AAggggAACzggcrj8qOg1Q5yuLH63KqI065k4ZVcibQxMgwQqN3u6KdQ0So6cUK58InX9lqd04RI8AAggggAACzgisfG2rMldpUxAT26u/zKiNuuZOGVXKm0MRIMEKhd3+SnUNEk8/Xa0MWu16xkTtznr7kWgBAggggAACCFgvcO7FJcpcZeyFJRm3S9fcKeOKOSBwARKswMndqFDXILGv9pBo30u97L5kSWaX3d1QpRUIIIAAAgggYJLAtqovRZtu6jxl2Ys1GYepa+6UccUcELgACVbg5G5UqHOQmDqjVPlkaMiEzG4cdUOVViCAAAIIIICASQILFqobcnXsFxMH6zLfkUvn3MkkI2JRBUiwVBN+koaAzkFi9XveW5/GNn6RRiS8BQEEEEAAAQQQ8Eeg19gi5UPgK2dl90gZnXMnf1pLqboESLB0SUasHN2DRNeR6gA2a3Z5xFRpLgIIIIAAAgiYIrB+7W4luZLPvvpk3e6sQtQ9d8oqCA4KRIAEKxBm9yrRPUjcNa9CGcTkM7Hk1qi8EEAAAQQQQACBoAUu93j2Ve+xRVmHoXvulHUgHOi7AAmW78RuVqB7kKgsrROt89WbSFcs3+ImIK1CAAEEEEAAAWMF9u85JDr0UeclDy+qzDpm3XOnrAPhQN8FSLB8J3azAj8GiZ+frz4TSz4nixcCCCCAAAIIIBCkgNzNWC4HbPpf2x6ZP/uqacx+zJ2als/X5giQYJnTF1ZF4scg8foK9UF+cmAr+XyvVTYEiwACCCCAAAJ2C/Q5S703/FeXl+bUKD/mTjkFxMG+CZBg+UbrdsF+DBLyfquThqqX46+7lc0u3D6baB0CCCCAAALmCKz7cFezK1cNV7HWvL8zpyD9mDvlFBAH+yZAguUbrdsF+zVI3DFX3eyiY//snjfhdg/QOgQQQAABBBDwQ8Dr+Zw9z8x+c4uGGP2aOzWUz7/mCJBgmdMXVkXi1yBRVVYn2hSoV7Gee7baKh+CRQABBBBAAAH7BHZtOSja9VDnIYsfrcq5MX7NnXIOjAK0C5BgaSeNRoF+DhK/uKREuTQ/6NzcPzmKRs/QSgQQQAABBBDIVuCBhzcrc5BjesdE7c76bItsPM7PuVNjJXxhhAAJlhHdYF8Qfg4S77y9XRnc5Prntat32QdFxAgg8P+3dyZgUhXX4k/++lySmJho9D3ZRXE3RhwWFUF2UBBQcA2KikSjSNyIihF8QSMumAhx1xh9QlRwQwRBRRFBUUBQQHp2hhn2RWCQYTn/77Tpcbr7dk8vd637u983X3ffrlt1zu/cqT7nVtUpCEAAAhAIBIG9e0R+e07y6NWwu/JLbhFT3knfKdYGr/4gQIDlDzsETgqnO4nWfZKz91z5x+LAcUJgCEAAAhCAAASCQWDmtNWWD3iXLt5siwJO+062CEklthAgwLIFY/gqcbqTePGl5P0ndG3WyuLt4YONxhCAAAQgAAEIOE6g+8Dk/Th7DbJvP06nfSfHAdFAxgQIsDJGRcG6BJzuJHQH9aM6JA/T3zOGlO117cB7CEAAAhCAAATyJ7Bk4SbL0Svdo9Ouw2nfyS45qSd/AgRY+TMMZQ1udBKjxpQldXYadGnwxQEBCEAAAhCAAATsIjD41pIkn6Nlr0LRdVl2HW74TnbJSj35ESDAyo9faK92o5MoL9pumbL9/17KP1VqaA2H4hCAAAQgAAEIxBGoLKuWJm2SZ80883xFXLl8P7jhO+UrI9fbQ4AAyx6OoavFrU5CE1vEdlCPvZ5m8xOl0BkPhSEAAQhAAAIQqCWgyw9iPkbstXn7iGyxITV7bSMi4pbvVLdN3ntDgADLG+6Bb9WtTkJTs8c6u7qv06euDjxDFIAABCAAAQhAwFsCm9bViAZTdX0MfT/i3lLbBXPLd7JdcCrMmgABVtbIuEAJuNlJdLPI6tPhIjYe5k6EAAQgAAEIQCA/AuOeTN5YWLMW6zIFuw83fSe7Zae+7AgQYGXHi9L/IeBmJ/Hhe2uSnizp0yXdkJgDAhCAAAQgAAEI5EJgZ/UeOa5L8ujVkOH2bCycKJObvlNi23x2lwABlru8jWnN7U7i9H7JGw/3vtK+vSmMMQyKQAACEIAABCCQEYGXJiTvuakPcJcv2ZLR9dkWctt3ylY+yttHgADLPpahqsntTuKN1yotR7EWL9wUKu4oCwEIQAACEIBA/gQ0/bqmYU9ce3XhdcX5V56iBrd9pxRicNoFAgRYLkA2sQm3O4ldO/fKyT2Th/EvG+pcR2ii3dAJAhCAAAQgAAGRt6dUJQVXGmwtmL/BMTxu+06OKULF9RIgwKoXEQWsCHjRSTz7rwrLznDp4s1WInIOAhCAAAQgAAEIJBHQ0as2fZNHr3oMdHbpgRe+U5LynHCFAAGWK5jNa8SLTmL7ll1ybKfkUazf3cgolnl3GBpBAAIQgAAEnCEw7W3r0auPZq11psH/1OqF7+SoQlSekgABVko0fJGOgFedxHiLdKo6pL+MUax05uI7CEAAAhCAAAREREev2lokzurowvYvXvlOGN59AgRY7jM3okWvOoltm3fJMR2TR7EGDmMUy4gbCyUgAAEIQAACDhKYPnW15XID3RLG6cMr38lpvag/mQABVjITzmRAwMtOwmpTwOgo1hLWYmVgOopAAAIQgAAEQkvAatsXN0avFLiXvlNoDe6R4gRYHoEPerNedhI6itXCYhTrckaxgn5bIT8EIAABCEDAMQKpRq9muTB6pUp56Ts5BpWKLQkQYFli4WR9BLzuJB59YqXlEP8S9sWqz3R8DwEIQAACEAgdgd01e6V1n+TMgR1cWHsVg+217xSTg1fnCRBgOc/YyBa87iS2bKiRFmcnr8U6/xpnU6waaUyUggAEIAABCBhO4JVXKy0fzH4w0/m1VzG0XvtOMTl4dZ4AAZbzjI1swQ+dxD+esh7F+mzueiOZoxQEIAABCEAAAtkT2Fm9R07qkfxQttPFhdlXlscVfvCd8hCfS7MgQICVBSyK/kDAD51E9dbdcmLX5A6z2+8YxfrBUryDAAQgAAEIhJvAU89VWI5ezf14natg/OA7uapwiBsjwAqx8fNR3S+dxIQJqyw7TbcWrObDkGshAAEIQAACEHCWgC4psNre5byr3H8Y6xffyVni1K4ECLC4D3Ii4JdOYtfOvXJar+RFq2dcUBjdTDAn5bgIAhCAAAQgAAEjCIx5tNzyQeyiLza6rp9ffCfXFQ9hgwRYITS6HSr7qZN4e0qVZec5aVKlHapSBwQgAAEIQAACASRQVVYtR7ZLXkpw2dBiT7Txk+/kCYAQNUqAFSJj26mq3zqJdv2TR7GO7xqR7Vt22ak2dUEAAhCAAAQgEBACN95VkvQAtlFBRFYs/dYTDfzmO3kCISSNEmCFxNB2q+m3TmLOh2uTOtGGp60QnRrAAQEIQAACEIBAuAgsW7xZNJhSX6Du3w13lHgGwm++k2cgQtAwAVYIjOyEin7sJPoNLorrRLVDbXpGRFaVVjuBgDohAAEIQAACEPApgb4WPkGzM731CfzoO/nUfIEXiwAr8Cb0RgE/dhLLllg/rbrew6dV3liHViEAAQhAAALhJTB7lvWslgfHeTurxY++U3jvEmc1J8Bylq+xtfu1kxhmMd+6YcEK+frLzcbaAsUgAAEIQAACEPiewO6avdK2X/K6bN030+t12X71nbh37CdAgGU/01DU6NdOIlXGoHMHub/fRShuBJSEAAQgAAEI+IjA8y9Ybyr82mTvMwv71XfykfmMEYUAyxhTuquInzuJseOt97yYOqXKXUi0BgEIQAACEICAawTWrvpOjuqQnNjirAH+2BvTz76Ta0YKSUMEWCExtN1q+rmTqN66W07qkdzBntgtIts2k7bd7nuB+iAAAQhAAAJ+IGCVll0TXs2bs94P4omffSdfADJICAIsg4zppip+7yTefWd1UkZB7WT/8lCZm5hoCwIQgAAEIAABFwgsXrhJdM113ZTs+v7yYd5sKmylst99JyuZOZcbAQKs3LiF/qogdBK9ByWnbW/SJiKFy7zZYDD0Nw0AIAABCEAAAg4R6HJpcmIL3aqlvGi7Qy1mX20QfKfsteIKKwIEWFZUOFcvgSB0EsuXbJHGrZKnCvb/vX+eZtULmgIQgAAEIAABCKQlMGlSZdLIlY5ePfIPb9OyJwodBN8pUWY+50aAACs3bqG/KiidxIh7Sy073fdmrAm9DQEAAQhAAAIQCDqBjat3yrGdkh+mtuxVKDur9/hKvaD4Tr6CFlBhCLACajivxQ5KJ7FpXY0c2zm549WEF1s21HiNkfYhAAEIQAACEMiDwNA7SywfpH70/to8anXm0qD4Ts5oH65aCbDCZW/btA1SJ/H6ZOupA7ePLrWNBxVBAAIQgAAEIOAugfnzNlgGVwOu9edSgCD5Tu5a0rzWCLDMs6krGgWtkzjniuSEF40KIqJZhzggAAEIQAACEAgWgZode6RNX+vEFiUrtvpSmaD5Tr6EGBChCLACYii/iRm0TiKy9FvRDIKJ6VvbX1gou2v2+g0v8kAAAhCAAAQgkIbA2PHlSb/p+hs//smVaa7y9qug+U7e0gp26wRYwbafZ9IHsZMY8zfrzvip5yo840jDEIAABCAAAQhkR6Bw+VZp0jb5oekZFxTKrp3+fWgaRN8pO8tQOkaAACtGgtesCASxk9BsQi17J08naHZmREpXbMtKfwpDAAIQgAAEIOANgV4W+1zqJsML5m/0RqAMWw2i75ShahRLIECAlQCEj5kRCGonMXfOOsspBb2vLMpMcUpBAAIQgAAEIOAZgZcmrLL8Hb95pP8TVwXVd/LM2AFumAArwMbzUvQgdxLX/sk6pevEiau8RErbEIAABCAAAQikIVBetF2ObJc8NfC4LhHRbVn8fgTZd/I7W7/JR4DlN4sERJ4gdxLrK7+z3JSwebuIaOfNAQEIQAACEICA/wj0G5ycEVgTW7w3Y43/hLWQKMi+k4U6nEpDgAArDRy+Sk0g6J3EzGmrLacYXDCEqYKprc43EIAABCAAAW8IvPqq9Z6WV97kzz2vrCgF3Xey0olz1gQIsKy5cLYeAiZ0EoOGFVsGWa9NrqxHe76GAAQgAAEIQMAtAhUl1dK8ffLUwGM6RmTtqu/cEiPvdkzwnfKGEJIKCLBCYmi71TShk1hTsUNadEzusLUTZ6qg3XcM9UEAAhCAAARyI3D+NdZTA6e9XZVbhR5dZYLv5BG6wDVLgBU4k/lDYFM6ialTqixHsXoPYqqgP+40pIAABCAAgTATePEl66yBlw0NztTAmP1M8Z1i+vCamgABVmo2fJOGgEmdxCU3WE8VZAPiNDcAX0EAAhCAAAQcJlC47FtpekbyTJMWZ0ekqqza4dbtr94k38l+OmbVSIBllj1d08akTqKqfIdlVkHdJX75ki2uMaUhCEAAAhCAAAS+J7C7Zq90vqTQcpbJ9KmrA4nJJN8pkAZwUWgCLBdhm9SUaZ3EBzPXWHbiZw0olJode0wyHbpAAAIQgAAEfE/gwXHllr/Lg28t8b3sqQQ0zXdKpSfnRQiwuAtyImBiJ3HDHdYbEP/lobKcGHERBCAAAQhAAALZE1j0xUZp3Cp5auDJ3SOyce3O7Cv0yRUm+k4+Qes7MQiwfGeSYAhkYiexZUON/Pac5A69YcEKmTdnfTAMg5QQgAAEIACBABPQ3+KWvaynBs79eF2ANRMx0XcKtEEcFJ4Ay0G4Jldtaicxf94G0YBKd4av+3d812DttWHyvYduEIAABCBgLgGdAlj39zf2fsS9pYFX2lTfKfCGcUABAiwHoIahSpM7if99sMyycx9wbfBSwobhXkRHCEAAAhAwg8Drkystf3/b9C2UHduDvx7aZN/JjDvQPi0IsOxjGaqaTO4kdu3cK50utp6e8MzzFaGyM8pCAAIQgAAE3CAQWfqtNDszeZq+ZvRdtnizGyI43obJvpPj8ALWAAFWwAzmF3FN7ySKv9kqzdtZdPRtIrJk4Sa/mAE5IAABCEAAAoEnsLN6j2jW3th0wLqv//fSqsDrF1PAdN8ppievZBHkHsiRQBg6ibenVFl29i17F4ouwuWAAAQgAAEIQCB/ArePLrX8vb1sqFlT88PgO+V/N5hRAyNYZtjRdS3C0klcnyJ1+6BhZnX6rt9ANAgBCEAAAhAQEd00uO6IVex9NCX76uCmZLcyblh8Jyvdw3aOACtsFrdJ37B0Etu37JJWfaynLbAey6abiWogAAEIQCCUBHTd1ZEW0/EbtYrI559uMI5JWHwn4wyXg0IEWDlA45Jw7eXw1aJNootsY0/VYq+NW0dkwfyN3A4QgAAEIAABCGRJQB9gnt7P+gHm2PHlWdYWjOIEWMGwkx1SEmDZQTGEdYStk3jlVevUsSd2Y3+sEN7+qAwBCEAAAnkSGDLcer+r868pkr3Bz8huSSdsvpMlhJCcJMAKiaHtVjOMncQfbrf+Megz2NwfA7vvG+qDAAQgAAEITJiwKmlWiM4OOalHRNZVfmcsoDD6TsYasx7FCLDqAcTX1gTC2ElUb90tZ/a3ns4w+uEya1CchQAEIAABCECglsDC+Rstp903aRORRZ+bPe0+jL5TreFD9oYAK2QGt0vdsHYShcut98fSJ2/vvrPaLrzUAwEIQAACEDCOQGVZtRzfNXlNs/6GvvCiOftdpTJcWH2nVDxMPk+AZbJ1HdQtzJ3EzOnWKWWbnhGRpYbsNu/grUPVEIAABCAQQgI1O/ZI10utZ4FcdUtJKIiE2XcKhYHrKEmAVQcGbzMnEPZO4p4xZZbzx085JyLrDZ4/nvkdQkkIQAACEIDADwRuvMt6HbNmEty2edcPBQ1+F3bfyWDTJqlGgJWEhBOZEAh7J6EZjvoNLrIMsnpfWSS7a/ZmgpEyEIAABCAAAeMJvPiSdVKLozpEpPibrcbrH1Mw7L5TjEMYXgmwwmBlB3SkkxDZuHqntOxlPd1hxL2lDlCnSghAAAIQgECwCHw2d700bpW87qpRQUTmzF4XLGXylBbfKU+AAbqcACtAxvKTqHQS31tj+ZItlrvQ64LdiRPNX7Drp3sSWSAAAQhAwF8ENDFUi7OTgyv9jXzi2Qp/CeuCNPhOLkD2SRMEWD4xRNDEoJP4wWLvzVhjOVVQn9h98nG4ns79QIV3EIAABCAQZgI6y6PgPOtZHoNvDUdSi0T74zslEjH3MwGWubZ1VDM6iXi8Yx4ttwyymrePyIql38YX5hMEIAABCEDAYAK7du4SzkUAACAASURBVO6V3oOs1yl3uKhQdF/JMB74TuGxOgFWeGxtq6Z0Esk4Bw0rtgyyTj23UNauMndn+mQSnIEABCAAgTATSJUxUPfAqiipDi0afKfwmJ4AKzy2tlVTOolknPpErvMl1tMhug8skp3Ve5Iv4gwEIAABCEDAIAKPP7PS8mGj7hW5ZOEmgzTNXhV8p+yZBfUKAqygWs5juekkrA1QVVYtJ/WwXtB79c3F1hdxFgIQgAAEIGAAgelTV0vDghXJAVbBCtH1ymE/8J3CcwcQYIXH1rZqSieRGufSxZtTZha8+/6y1BfyDQQgAAEIQCCgBDQde5O21g8YH3t6ZUC1sldsfCd7efq5NgIsP1vHx7LRSaQ3zkez1oru8aGpaBP/nnk+fKlp09PiWwhAAAIQCDIB3bJEkzol/t7p56F3hjNjoJU98Z2sqJh5jgDLTLs6rhWdRP2IX3jReud6nT6h0yg4IAABCEAAAkEnsLJ4u5zc3Tq4Ou+qItGMghzfE8B3Cs+dQIAVHlvbqimdRGY4//JQmeUTPZ1GodMpOCAAAQhAAAJBJbBpXY2ccYF1cqd2/Qtl84aaoKrmiNz4To5g9WWlBFi+NIv/haKTyNxG19xWYhlk6XSKr7/cnHlFlIQABCAAAQj4hMCO7Xuk5+XWe12d3DMiq0rDm449lYnwnVKRMe88AZZ5NnVFIzqJzDHX7NgjOk3Cam76sZ0jUrh8a+aVURICEIAABCDgMQGd9jfgWuu9H4/qEJEVS7/1WEJ/No/v5E+7OCEVAZYTVENQJ51EdkbWaRI6XcIqyNInfTqHnQMCEIAABCDgdwJ794gMvsV6ZoZOf//80w1+V8Ez+fCdPEPvesMEWK4jN6NBOons7ajTJU7pab0QuHWfQlm76rvsK+UKCEAAAhCAgIsEbh1ZavmwUDPnzpxOAqd0psB3SkfHrO8IsMyyp2va0Enkhrr4m62i0wKtRrI6XsSC4NyochUEIAABCLhB4L5Hyi1/v/Q37dVXK90QIdBt4DsF2nxZCU+AlRUuCscI0EnESGT/qhsR6xx1qyBLFwxv37Ir+0q5AgIQgAAEIOAgAd0s2Op3S889+Sz7O2aCHt8pE0pmlCHAMsOOrmtBJ5Ef8gXzN0jTM6yDrN5XFolmZ+KAAAQgAAEI+IHAM89XpAyu/vq3cj+IGAgZ8J0CYSZbhCTAsgVj+Cqhk8jf5nM+WidN2lgHWf0GF8nOaoKs/ClTAwQgAAEI5EPgxZdWpQyubhtVmk/VobsW3yk8JifACo+tbdWUTsIenDOmrRZdGGw17UJT4GqKdw4IQAACEICAFwT+/e/UwdXgW0tEMwpyZE4A3ylzVkEvSYAVdAt6JD+dhH3g33qjShoWrLAMsi65oVh0vxEOCEAAAhCAgJsEJk2qtPxd0geClw8rlt01/DZlaw98p2yJBbc8AVZwbeep5HQS9uJP90M2cBhBlr20qQ0CEIAABNIReH1yJQ/+0gHK8Tt8pxzBBfAyAqwAGs0PItNJ2G+FiRNTT8W4+A9MF7SfODVCAAIQgEAigZdfTh1cMXU9kVZ2n/GdsuMV5NIEWEG2noey00k4A/+FF1MHWf1/X0x2QWewUysEIAABCIhIuoQWJF/K/xbBd8qfYVBqIMAKiqV8JiedhHMGefqfqdPhnndVkVRv3e1c49QMAQhAAAKhJJDut4ftQ+y5JfCd7OEYhFoIsIJgJR/KSCfhrFGe/VfqIOvcQUWybTObETtrAWqHAAQgEB4C6TYR7juYB3t23Qn4TnaR9H89BFj+t5EvJaSTcN4sL01IPV2w22VFsnHtTueFoAUIQAACEDCawJhHy1NmC9Q1V2x8b5/58Z3sY+n3mgiw/G4hn8pHJ+GOYV55NfVi4zP7F0pVWbU7gtAKBCAAAQgYR+D20aUpgyvdJoS9GO01Ob6TvTz9XBsBlp+t42PZ6CTcM86br1Wm3Iy4Za9CKV2xzT1haAkCEIAABAJPQPdXvOa2kpTBle5zxR6M9psZ38l+pn6tkQDLr5bxuVx0Eu4aaOqUKmncKmL5Y3h814gsX7LFXYFoDQIQgAAEAklAp/xdeF2x5e+JbiI8+JYSNhF2yLL4Tg6B9WG1BFg+NEoQRKKTcN9Ks95bI03aWgdZLc6OyKLPN7ovFC1CAAIQgEBgCGzeUCPnXFGUMri6eWSp7N0TGHUCJyi+U+BMlrPABFg5owv3hXQS3tj/00/Wy5HtrIOsZmdGZPastd4IRqsQgAAEIOBrApVl1dKuf2HK4Gr0w2W+lt8E4fCdTLBiZjoQYGXGiVIJBOgkEoC4+HHxwk1yTEfrIKtRq4hoYgwOCEAAAhCAQIzAiqXfysk9rX83dFrgE89WxIry6iABfCcH4fqsagIsnxkkKOLQSXhrqYj+WHZP/WP54LhybwWkdQhAAAIQ8AWB+fM2yFEdrH8vGhXwUM5NI+E7uUnb27YIsLzlH9jW6SS8N1150XZp1Sf1dI+hd7JQ2XsrIQEEIAAB7wjMmLY65dpdXdM7c9pq74QLYcv4TuExOgFWeGxtq6Z0ErbizLmydZXfiW46rFM8rP4uGFIkWzbU5Fw/F0IAAhCAQDAJPPN8hTQssP5taN4+Ip/NXR9MxQIsNb5TgI2XpegEWFkCo/j3BOgk/HMnVG/dLZfekDrlrm5IrKNdHBCAAAQgYD6B3TV75daRqTcQ1unlbO3hzX2A7+QNdy9aJcDygroBbdJJ+MuImlb3tlGpf1CP7Uwad39ZDGkgAAEI2E9g07oa6Ts49awGfeBWUVJtf8PUmBEBfKeMMBlRiADLCDO6rwSdhPvMM2nxH0+ttJwqqNMHm7aNyLS3qzKphjIQgAAEIBAwAsXfbJU2adbl9h5UJBqAcXhHAN/JO/Zut0yA5TZxQ9qjk/CvId96syrlomYNtMaOJ8Ogf62HZBCAAASyJ/D5pxtSbt+h/f6Q4SVSs4MdhLMna+8V+E728vRzbQRYfraOj2Wjk/CxcUTki3p+bK++uVh07RYHBCAAAQgEm8Crr1ZKkzbWadg1uHrkHzxU84uF8Z38Ygnn5SDAcp6xkS3QSfjfrCUrtkqbvqnTuLfrXyhlhdv8rwgSQgACEIBAEoFdO/emXXur08LffYc07EngPDyB7+QhfJebJsByGbgpzdFJBMOSOt++X5oFzy06RmTunHXBUAYpIQABCEAgSqCqfIf0GJg6mcVxXSKy6IuN0PIZAXwnnxnEQXEIsByEa3LVdBLBsa6m7B1+T+oMg41aRUT3S+GAAAQgAAH/E1i8cJNoqnWd/mf1x9Yc/rUhvpN/bWO3ZARYdhMNSX10EsEz9IQJq6Rx69Q/yroImnVZwbMrEkMAAuEh8PrkyrRJjAYOK5Ztm3eFB0jANMV3CpjB8hCXACsPeGG+lE4imNbXTFO6J5bVU089p08+C5d9G0zlkBoCEICAoQR2bN8jf/xz6pkIDQtWyN8fW2mo9uaohe9kji3r04QAqz5CfG9JgE7CEksgTuomk50uTp38onm7iMyYxsLoQBgTISEAAeMJ6P5W7S9M02e3j8hHs9Yaz8EEBfGdTLBiZjoQYGXGiVIJBOgkEoAE7OPO6j3yh9tLUo5k6WjWiHtLRbNUcUAAAhCAgDcEPpi5Rpq3Tz3rQDcWZtaBN7bJpVV8p1yoBfMaAqxg2s1zqekkPDeBLQI8/0JF2nVZ3S4rkpXF221pi0ogAAEIQCAzApqcaNSYsrQPwS69oVg2b6jJrEJK+YIAvpMvzOCKEARYrmA2rxE6CXNsumD+xrQZqVqcHRF9isoBAQhAAALOEyhdsU304VaqtbKNW0Xk8WdYb+W8JexvAd/JfqZ+rZEAy6+W8blcdBI+N1CW4q1d9V3a/bL0h/62UaWiC605IAABCEDAGQLTp65OOyXw+K4RmT9vgzONU6vjBPCdHEfsmwYIsHxjimAJQicRLHtlIu3ePSIPjSsXzUaV6smpZhn85ustmVRHGQhAAAIQyJDA9i275Ma70q+L7T2oSHSDYY7gEsB3Cq7tspWcACtbYpSPEqCTMPdGmDN7nRzTMfWi6qZnROTllyvNBYBmEIAABFwksHTxZmndJ3WWQH3gdd8j5aIPwTiCTQDfKdj2y0Z6AqxsaFG2lgCdRC0KI9+sKq0WfVqaaiRLz182tFh0aiEHBCAAAQhkT0ADpieerUi7cfBxXSKiD704zCCA72SGHTPRggArE0qUSSJAJ5GExLgT+uOvG1fqgupUgZZuWvzheyTAMM74KAQBCDhKoKxwm5xzRfqHWBcMKZI1FUwJdNQQLleO7+QycA+bI8DyEH6Qm6aTCLL1spNdswye0jN1kKXBl64d2EK64OzAUhoCEAglgdcmV4pu6J7qwVWTNhF58tmKULIxXWl8J9Mt/IN+BFg/sOBdFgToJLKAZUDRTetq5Mo/Fqd0CNRROPXcQvn8U7JbGWBuVIAABBwgoFOqdWp1qsBKz5/Wq1AWL9zkQOtU6QcC+E5+sII7MhBgucPZuFboJIwzaUYK1ffktVFBRP781zKp3ro7o/ooBAEIQCAMBN59Z7Uc2yn1qJUGV8wEMP9OwHcy38YxDQmwYiR4zYoAnURWuIwqnMnaAX0K+9nc9UbpjTIQgAAEsiVQVVYtv7sx/aiVBl6sZc2WbDDL4zsF0265SE2AlQs1rhE6iXDfBJoA4/FnVqbNfqVPZHVz4m2bd4UbFtpDAAKhJPDWG1XS4uz0o1aX3kA21jDdHPhO4bE2AVZ4bG2rpnQStuIMbGXLlmyWdv3T79+iCTJIMxxYEyM4BCCQJYGKkmoZcG36UStNcqFTrjnCRQDfKTz2JsAKj61t1ZROwlacga6sZsee6CaY6dK562jWkOElpBwOtKURHgIQSEdAR/afe6FCjkyTIVD7wj6Di0SnWnOEjwC+U3hsToAVHlvbqimdhK04jajsq0Wb5KwB6UezjuoQkVde5amtEQZHCQhAoJbAkoWbpONF6fu/5u3p/2qBhfQNvlN4DE+AFR5b26opnYStOI2pbNfOvTJ2fLnoPi76pDbVX4+BRfLN11uM0RtFIACBcBLQNaYj7i2VRmk2ZNd+UKcM6tRBjnATwHcKj/0JsMJja1s1pZOwFadxlS1fskU6X5L+aW7j1hEZ/TAp3Y0zPgpBICQE3puxRk7unv5hkia50GQXHBBQAvhO4bkPCLDCY2tbNaWTsBWnkZXpeoSn/1n/eoSTekRkxrTVRjJAKQhAwDwCkaXfSr/BRSlH6GMj91fdUiJV5TvMA4BGORPAd8oZXeAuJMAKnMn8ITCdhD/sEAQpVhZvl0tuSJ9RSx2S3lcWiY58cUAAAhDwI4EtG2pk5P1loqPvsSDK6rVlr0Iyp/rRgD6QCd/JB0ZwSQQCLJdAm9YMnYRpFnVenw9m1j+dRjMR6nqGTetqnBeIFiAAAQhkSODN1yrluK7pAytde3rv2HLZsX1PhrVSLGwE8J3CY3ECrPDY2lZN6SRsxRmaynRB+F33ldW7IPzYThGZOHGV7K7ZGxo2KAoBCPiPwML5G6XbZfVPByRxj/9s50eJ8J38aBVnZCLAcoar8bXSSRhvYkcVXLp4s/S8vH6npW2/Qpk9a62jslA5BCAAgUQCpSu2yZU31T+1WUe1dHSLAwKZEMB3yoSSGWUIsMywo+ta0Em4jtzIBt+eUiUn1jPtRtc49B1cJMsWbzaSAUpBAAL+IaDTk0eNKZMmbdNPB9R1WLoeS9dlcUAgUwL4TpmSCn45Aqzg29ATDegkPMFuZKM6bfAvD5XVu3dWo4KIDL2zRFaVspeMkTcCSkHAQwI1O/bIcy9USIuO6QMrfeCjGQQ1kyAHBLIlgO+ULbHglifACq7tPJWcTsJT/EY2Xrh8q1x4Xf1Tcpq2jUSfMK+v/M5IDigFAQi4R0C3k3jjtUo55Zz6A6tTzy0UTdbDAYFcCeA75UoueNcRYAXPZr6QmE7CF2YwUoi5c9bJWQPSb1KsT5Gbt4/Iw+PLRUfAOCAAAQhkS0CDpdP71d/XHNUhIk8+WyE6ysUBgXwI4DvlQy9Y1xJgBctevpGWTsI3pjBSEH2qPGlSZUbrszTj4DPPV8jOapwfI28GlIKAzQTmzVkvXS6tP7DSdVZ3ji4VRsttNkCIq8N3Co/xCbDCY2tbNaWTsBUnlaUgsH3LLnloXLk0O7P+6Tsnd4/ICy+uItBKwZLTEAg7gU8/WS/nDqo/e6mOkF82tFh02jIHBOwkgO9kJ01/10WA5W/7+FY6OgnfmsZIwarKquXWkaWiT5TV+Un3p1kJdbE6m30aeSugFASyJqDTjjPZFkL7FS33xacbsm6DCyCQCQF8p0womVGGAMsMO7quBZ2E68hpUERKVmyVa24rkYYF6YMsdZSO7/r91EECLW4dCISTwCcfr5PuAzMbsWp/IXvuhfMucVdrfCd3eXvZGgGWl/QD3DadRICNZ4Doy5dskUtuqD/joAZax3WJyLgnV4rub8MBAQiYT0CTV3TNYI2V9g8F5xXK9KmrzYeChr4ggO/kCzO4IgQBliuYzWuETsI8mwZRo0Wfb4xuQqyOUn1/mnXwnjFlUlnGPlpBtDUyQyAdAc3wp4lx2vSpP3mF9hW/PSciL79cKbtr9qarlu8gYCsBfCdbcfq6MgIsX5vHv8LRSfjXNmGUbMH8jXL+NZlNBWrSNiLD7iphAXsYbxR0No6AbtPwxLMVcmK3+tdnamCle1lpYLVrJ4GVcTdDABTCdwqAkWwSkQDLJpBhq4ZOImwWD4a+OqLV//eZTR1sVBCRS28ols/mrg+GckgJAQjUEigv2h4dkdY9quobvdbvW/YqjI5wMWJVi5A3HhDAd/IAukdNEmB5BD7ozdJJBN2CZsu/eMEmufC6zAItdb50gfvrkyvZSNTs2wLtDCCgo9WDhhVLo1aZBVat+nz/v01gZYDxDVAB38kAI2aoAgFWhqAoFk+ATiKeB5/8SUCTYQwZXiKNM3TGju0ckTGPlktV+Q5/KoRUEAghAZ3O99abVdL5kszWV+lDEy07c9pq0U3LOSDgFwL4Tn6xhPNyEGA5z9jIFugkjDSrsUrpdKLbR5dK0zMye+qt67SuvrlY5s9jPxxjbwoU8z0B/b+9d2y5HNc1s/9bDaz6DS4S3VCYAwJ+JIDv5EerOCMTAZYzXI2vlU7CeBMbqeD6yu+iI1THdsrcYWvbrzC6cTFp3o28JVDKZwR0xOmjWWujU3x1naQGTfX96Qi1PhD5+svNPtMGcSAQTwDfKZ6HyZ8IsEy2roO60Uk4CJeqHSegmw9rJrEz+2c+5UhHv264o0R0fRcHBCBgLwHdPuHvj62Mpk+vL6CKfa8JLnTrhZXF2+0Vhtog4BABfCeHwPqwWgIsHxolCCLRSQTBSsiYCYG5c9Z9nxCjoP4n5THH7vR+hfL4MytZq5UJYMpAIAUB3btK10kNuDbzpBX6P6h7Xb00YZVUb92domZOQ8CfBPCd/GkXJ6QiwHKCagjqpJMIgZFDpmLxN1vl9v8tFd2QOBZI1feqU5Muuq5YPpi5hn11Qna/oG7uBJYu3hxdE3lMx8z/1xoWrIhuwTDnw7W5N8yVEPCYAL6TxwZwsXkCLBdhm9QUnYRJ1kSXugS2b9kVnT7Y8aLMpw9qIKbrujRA0724OCAAgXgCFSXV0VHfswZk/3/1l4fKpHTFtvgK+QSBABLAdwqg0XIUmQArR3Bhv4xOIux3QDj0X7xwk1x/R0nG2QdjI166qalmP1ux9NtwgEJLCFgQ2Lh6p0ycuErOHVQkOgIV+//I5PWcK4pk6pQq9qaz4Mqp4BLAdwqu7bKVnAArW2KUjxKgk+BGCBMBzSD43AsV0Q2JM3EO65bRJ/b/eGolT+DDdMOEWNctG2pkyltV0amzTdpkMQXwP6PAd91XJhEeTIT4DjJbdXwns+1bVzsCrLo0eJ8xATqJjFFR0DACOa0f+U+q6fYXFsrY8eU4kIbdE2FXR0eqXptcGU0Wo3vI1X3AUN/72DrG92awjjHs91EY9Md3CoOVv9eRACs8trZVUzoJW3FSWQAJaAa0GTlkQIs5nLq/1n2PlLN3TwBtj8gSzaA5YcIq6Tu4SBq3zi6o0v8BMnFyF4WRAL5TeKxOgBUeW9uqKZ2ErTipLOAE1lTskGf/VSFdL81uAX8s2DqpR0RuurtUPnp/regeXRwQ8COBrxZtkofGlUvnSwqzXlOl9/rJ3SNy9/1lovVwQCCMBPCdwmN1Aqzw2NpWTekkbMVJZQYRKFmxNToNUEeoYgFUNq+6obHuC6T7/GjmNQ4IeEVA95ma9d4aGXZXiZzYLftRKr3vW5wdiV7/2dz1XqlBuxDwDQF8J9+YwnFBCLAcR2xmA3QSZtoVrewloOu1NMV0qz65BVvqoLbpWxhN/66jW9s277JXQGqDQB0Ce/eIaObMvz+2Mpr5L9v1VLEHCUd1iMg1t5VEg7NdO/fWaYG3EAg3AXyn8Njf8wBr754amfTkSFmxaJqj1Iu/+kBu/f0AmT3lcUfbcbLyTHSY+uL98tW815wUI1o3nYTjiGnAMALLl2yRMY+Wy5n9cw+2NCtbz8uL5OHx5bJw/kbZXYPzatht4ro6OuKqqdQvH1YsLbLZ+Pc/iVtiQZXuAzf0zhKZPWstm267bkUaDAoBt32nXHzsTHzNIPDORA8nfWZPA6zZbz0mLU9qIZf27SRb1i13xF6L5rwcrX+fA/aTH/3oR/LSo3c40o6TlWajw2fvPS+HHHqwXH1xTyn/5mPHxHK7k3BMESqGgAcECpdvlUefWClddM1WlvsDxRxafT2yXUT6DP4+4NIpWDurWb/lgTkD1aSmQNfpp1fdUhJdE1X3fsr2/Sk9I3LbqFKZN2e96OgXBwQgkJ6Am75Ttj52Nr5mei29/TYbPZz0mT0JsKqK50vPjq2jAc+4e653xBKzXntUOrdrGW1DA6vYX5ACrFx1+GbBVDm6WUM58KCfykN3DXGEr5udhCMKUCkEfEJg7arvZNKkSvndjcXSvF1u61xijnHTtt+PcI1+uCyaMGN95Xc+0RIxvCCgmS4XzN8oTz1XEb2/dJQpdq/k8tqoICLdflcUnUK4bMlmL1SiTQgEmoAbvlO2PnauvqbfDJGrHk75zK4HWDpS1ebU46MBz33Dr7LVPjU71srLj/1ZfnN889qAKhZYxV79HmDZpcPasgVyQoumUQ6PjLzOVs5amRudhO1CUyEEfE5A16t88vE6uX10aV7rtuo6z6f1KpTBt5REsxwuXrCJ6Vs+vwfyEa90xTZ5680qGX5PaTTTX65rqOreP5qkYtCwYnnjtUpZR8Cej3m4FgKO+06Z+th2+Zpem9QuPZzwmV0NsBREbORKg6Bd3220zTafznhOmjb8byk45VjpdOapsu8B+1sGWX4OsOzWQdebaWD54333ia5zsw02AZadKKkLAikJlBdtl3//e1XUwT0mj/UxdR1mHeXqeFGh3HhXibz40qroCIdmi+MIDgGdjqdT/aa8VSUj7y+T864qknxHp2L3iAZl51xRFM2EqQE5U/+Cc18gqf8JOPlwOlMf225f0yvqdutht8/sWoClC+0uv6BrbdDz4evjbLXJ5jXLZP3KRbV1Thh3Z21bsdErffVzgOWEDud1PT3KYd8D95eP3vxHLZ983zjZSeQrG9dDwFQCSxZuiq7dUoe62Zn5TfeKOdT62qhVRNr0KZSrby6OTv/6YOYaKf5mK861D24knUKqa5yef6FCbh5ZKt0uK4quvatrv3ze67S/dv0L5c7RpfLRrLWyfQuZKn1gdkQwlIBTvlM2PrYTvqYX5nJCDzt9ZtcCrEdHXV8b8DQ64jDRm8HJQ+eg1g2sYu/9HGAl8rBDh3cnPljL4Sc//5mULv0wsZmcPjvVSeQkDBdBIIQEdDqhZhIc/+RK6f/7Ymne3r6AK+aw655c6nxr4DV2fLm8+85q+frLzTjhNt9vmg1SA1rNwPfM8xXyxz+XSo+B9o1Kxeypr41bRaLTB3XDX93jatM6Z3+LbUZFdRAINAGnfKd8fGw7fE0/GMUOPez0mV0JsLZvKpbDDzuk1tH/03UXOW4LbTMWVNV9DVKAZYcOO7dXyUEH/7yWxR+vvsAW9k51ErYIRyUQCCEBncr11aJNUQddA6JTz809HXxdhzzV++O6fJ/wYMjwEnloXLm89UaVzJ+3QXRaI+njk29AXb+ke0zNnL5anni2Qm4ZWSp9BxdJy16F0ri1/cFxzG66J5W289e/lcucj9YRHCebhjMQcI2AE75Tvj62Hb6mawDTNGSHHnb6zK4EWE+PubnWwddgZ+bLD6dBZM9XCqluYBV7H6QAyy4dftevSy0LzSy4pvSLvCE70UnkLRQVQAACcQR0epmOUuhmx70HFTkyyhVz5Ou+6rSzE7t+P1IycFixjLi3NDrS9trkyugojU51rCyrNiIQ27h6p6xY+m10Gt/bU6qiAa7y1o12zx1UJJpkREcC6/Jx6r2OTp01oFBuurs0mplS12lxQAAC/iHghO+Ur49tl6/pNWW79LDLZ3Y8wNJEFs0a/0+tg6+BTvFX7ztuB7tAOy5omgbs0uHBEUPi+N9z8xVpWs3sKyc6icxaphQEIJAPAd2Da+qUKrlnTFl0ZOPYzu44/5ZBRcGK6Oa2BecVRqet6UiLZqwbdleJjBpTFl0Ppok4Xp9cGZ2e+NH7a6OBzKLPN4qmCddpdRUl1VJVviOa4W7j2p2yZUON7Ni+pzZboo6m6f5gurZIp8Np6vo1FTuiAV5Z4bZocKQjS7qP2JwP10ZHmHQ0TjffffyZlXLv2HK5dWRpNBPjgGuLpdvAIjm9X6Ec3zUiuvGzpV4Jm/A6UUaDts6XFEanE+q+Vou+2BjVO597g2shAAFnCdjtO9nhY9vlazpLrv7a7dLDLp/Z8QDr1SfujnPudR2QcUFMegAAFnJJREFU0+uv1Ax2ga7fpM6VsEsHHTGMjeDp6y9/dXDeGztbdRK/6fl74Q8G3APBuwdO6D5Mju40Spq2HyeNznhJGrR6VxqcttCz4MGJgCSodTZo+ZU0bPWhNDx9sjRp96Q07/hXOa7rrXJSj+DdZ/QN2Ix7IPkeuOXPD+TsSNrhY9vla+ashE0X2qWHXT6z4wFW4ma/ugeWG4ddoN2QNVUbdulQuHhGXIClQdbE8SNSNZvReQKs5E6SHw6YmHYPHN/9Jjm60z3S9KxHpfEZ/ycN274jDQs+kYYtlxF82T1KVbBAGrSeKY1Of1kan/VENJA6tstwOanHdTy44uEd94DB90A+AZYdPrZdvmZGzqODhezSwy6f2fEAq0mDw+Oc+3M6tXEQ7w9V2wX6hxrdf2eXDlb13HH9xXkpRIBFMGFaMIE+md/TJ/b8gxzXZbgc1fEv0kyDrzNfkIZt35CGrd6XhgULCL4sgq8Gpy2WBgWzpVHbd6TRGROk6VmPy5Fnj5FjutwpJ3QfigNtsANN35J53xJGVvkEWHb42FY+oj6ID1LOAnVo7dLDqp5cfGZHA6wd35bLj/9r37gAa0CvDnk59plebAUoaDeMnTrsc8B+cXbof277TFFaliPA4gcjjD+E6JzZfX9iDw3AbotOOzyyw0PS+KzHvw/CTp8sDVq/Iw0KPpIGhgRiGjjpqJ6OPmmQqVMsm7R7Wpp1+Js07zRajulyh5zQ/UYCKAIo7gHuAct7INcAyy4f205f09JhdOmknXrY4TM7GmAt++LtOKdeA5xBA7q7gtpO0K4IbNGInTr87BcHxdmi5UktLFrM/BQBVmaOJg45nLgHUt8DJ/a4TnQa4rFdb5ejO/85GpA0P/sBadb+79Fpco3O/Gd0tKdh21e/HyFr87Yc0Wa6NGz9/n+CtLnS8LT50vC0z6MBW4PTFkmD076UhrpuqeXS70fSWi4TXccUHUGKfr/wP6Ns86VBwTxp0GqONGw1K7ruLDoFsu2b0fVODU+fGA0Km7R7Kro2TQPF5h3viwaNGjQd1/UWObHH9ZYOEzZPbXPYwIZ7IP4eyDXAssvHttPXzNyLtL+knXrY4TM7GmAlLhTTAOuGK/qkpLpp9ddycZ+OGf3de9uVKevRL+wEnbahhC/9qsMRhx8aF2DpzcMBAQhAAAIQgAAEIBA8Atn62Kk09MpfVnlM9pkdDbAeG31jnFOvAdbtf0i99kf3Z9Iymfx1POO3qe6V6Hmvbhi/6nBU0wZJXHXXaw4IQAACEIAABCAAgWARyNbHTqWdV/6yymOyz+xogPX82OFJTv2frrsolY19CzqlwBZf+PVmad7kiCRbrCqcZ6EBpyAAAQhAAAIQgAAE/EwgWx87lS4EWMlk7PCZHQ2w5rzzVJJTn26KoF+Dk2T0qc/4VYdf//pXcbbQ/cg4IAABCEAAAhCAAASCRyBbHzuVhgRYyWTs8JkdDbBKl34Y59Tr1L90SS50R+pFc17O6G/FomnJROqc8eqG8asOBx700zhbnHLCUXVo8RYCEIAABCAAAQhAICgEsvWxU+nllb+s8pjsMzsaYO3dUyP7/fTAOMf+wt5np7Kxrec1faXVWq5M8vrr1Lm7brxMLuvXWR4cMUTWr1xkq2yZVpaPDoltJKbLv+CcsxKL8BkCEIAABCAAAQhAIAAE7PKx8/E1/eIvq7ny0SPR3Hb4zI4GWCrwcUc3iQt0zu3cNlEPRz5vWbc8rt1YsPXPh29L21758tmSODSoczGLFs9Me50TX+aqQ6IsWzcWJrHIZdO0xHr5DAEIQAACEIAABCDgDQE7fOxcfU0/+ctKP1c9Ei1nl8/seIClI1ax4EZfTzymWaIujnzWDHl12429f+K+YWnbu27geZbX9evRLu11TnyZqw6JshQunpGk08TxIxKL8RkCEIAABCAAAQhAICAE7PCxc/U1/eQvq7ly1SPR1Hb5zI4HWPPefTbOud/3wP2lZsfaRH1s/7xw9sS4dmMBVroshipEt/YFltfp9Zqv380jVx0SZXx34oNxOh1y6MHRSD+xHJ8hAAEIQAACEIAABIJBwA4fO1df00/+slorVz0SLW2Xz+x4gKWCt2t1cpyDv+zzKYn62PpZh/fOav2buDZjAZZusLtk3uSU7d1z8xWW1+n1iz7+d8rr7P4iHx0SZbn/9qvjdLpv+FWJRfgMAQhAAAIQgAAEIBAwAvn42Pn4mn7xl9Vc+eiRaG67fGZXAqzE3aYnPzUqUZ+8P2s2lfO6nh4NrDSIigVUqV4bHXGY9OzYOimBhRqpe4dWtdfXXY/19Wdv5C1nugrs0iGxjUv7dqrVR9msK1+YWITPEIAABCAAAQhAAAIBI5Ctj22Xr+mlv6wmskuPRHPb5TO7EmBpppOTjzuy1sk/v6f/M9gt/+JtKV32kWyo+DIq9z4H7CeayjJox+6aLXL4YYfUsr/9DxcHTQXkhQAEIAABCEAAAhCwIOC1j22Kv6xo7fSZXQmwVOjpEx6QH++7T9TR19TtG6u+srhN/HdKpxPqKFibU4/3n3AZSPTh6+Nqg6tf/upgqVjxSQZXUQQCEIAABCAAAQhAIAgE/OBjB91fVjvb6TO7FmCp4GPvvrbW2R93z/VBuGdlxNBLozIr9CAeOlqoAaJuNPz5rBeDqAIyQwACEIAABCAAAQikIeC1jx10f1nR2ukzuxpgqfA3Db4g6vD/4pe/kDWlX6S5Vbz/KrJouuiapT7dzvBemBwkmPPOU1HW+x6wv3ww6e851MAlEIAABCAAAQhAAAJBIOCVjx10f1lta7fP7HqApXNFLzqvY9Tx739ue9+ua9I8+E0b/rcM6NVBqjeXBuH/Kk7GquLP5OhmDaPTMl95/M9x3/EBAhCAAAQgAAEIQMAsAl742EH3l/UOcMJndj3AUkV2fFsuN1/TX3RPrLNPP8VXI1mayGLUTZdHg6sH7rwmuuAtaP9+mpzjlBOOkiMOP1QmPTkyaOIjLwQgAAEIQAACEIBADgTc8rFN8JcVr1M+sycBVux+iXz5bnSESEdaKos+jZ329HVt2QJ5fuzwQI5aKbi505+WZo3/R+697Uo2E/b0TqJxCEAAAhCAAAQg4A0Bp33soPvLahUnfWZPA6zYLTf/g39JydezYh95zYOAziFdVTgvjxq4FAIQgAAEIAABCEDABAL42Kmt6KTP7IsAK7XqfAMBCEAAAhCAAAQgAAEIQCA4BAiwgmMrJIUABCAAAQhAAAIQgAAEfE6AAMvnBkI8CEAAAhCAAAQgAAEIQCA4BAiwgmMrJIUABCAAAQhAAAIQgAAEfE6AAMvnBkI8CEAAAhCAAAQgAAEIQCA4BAiwgmMrJIUABCAAAQhAAAIQgAAEfE6AAMvnBkI8CEAAAhCAAAQgAAEIQCA4BAiwgmMrJIUABCAAAYcJ7N1TI5OeHCkrFk1L2ZKWmfnywzLqpstl4Pldo68zXxkret6rIxeZpr54v3w17zWvRKZdCEAAAsYSIMAy1rQoBgEIQAAC2RCY/dZj0vKkFnJp306yZd1yy0t1086CU46VH/3oR3LIoQdL7y6ny/4/+0n0s57X790+cpXps/eej+pw9cU9pfybj90Wm/YgAAEIGEuAAMtY06IYBCAAAQhkQqCqeL707Ng6GiSNu+f6lJd8Mu0p2e+nB0bLHdO8kWzfVBwtu7ZsQTRQ0aBLv//47SdS1mH3F/nK9M2CqXJ0s4Zy4EE/lYfuGmK3eNQHAQhAIJQECLBCaXaUhgAEIAABJaAjVW1OPT4aNN03/KqUUJbOf0t+9ouDouU0kHpk5HVxZf903UW13/3k5z+Trz59Pe57Jz7YJZMGiCe0aBqVP1EvJ+SmTghAAAKmEyDAMt3C6AcBCEAAApYEanasrR25+s3xzWXXdxsty+nJ83ueVRtAaYA1791n48q++sTdcd+f1/X0uO+d+GCnTLOnPB6V/8f77hNdg+aEvNQJAQhAICwECLDCYmn0hAAEjCawfuUieWz0jdK9QytpdMRhsu+B+8svf3VwdE3RHddfLF9/9obR+mernCaFuPyCrrVB0Yevj0tZxbLPp4gGHhpYxf50al3d4/NZL9R+FyuzcPbEukVsfe+ETBoUqux673z05j9slZfKIAABCISJAAFWmKyNrhCAgJEEHr93mBx08M+THPyYo6+vGiD8rl8XWVe+0EgG2Sr16Kjra3lpQJouA+AtQwbUlo0xLV8+O67JZV+8nVRGpw06dTgh07sTH6zVQac5li790CnxqRcCEICA0QQIsIw2L8pBAAImE9ApbZrxLub0Z/LavMkRUrh4hslY6tVNk1McftghtdzqC4RiWQPr8l1T+kVcO5Ev362tL1butJOPiStj5wcnZNq5vSouUP/j1RfYKTJ1QQACEAgNAQKs0JgaRSEAAdMIDB3UN8mpjzn36V41A55OKQzr8fSYm+O46Z5WqY5Nq7+WfQ7YL668stXzdY/ir95PKvP/9t/PEc5OyqSjnLF7RzMLJgaSdXXmPQQgAAEIWBMgwLLmwlkIQAACviagSRZijnAur8OuOt91/RbMniBtW55g618sVXqmyuioX7PG/xPHToOjVMeHb4yPKxtjvXVjYdwlJV/Psiz3/qt/iytnxwcnZXpwxJA4Pe65+Qo7RKYOCEAAAqEiQIAVKnOjLAQgYAqBbu0L4hzhmOOf6auOyuj+T24esUx1mcqYSblUGwKn0isx25+uNUq3/uqfD99myVmn09U9dL2Slbwv/O32usVsee+kTDqaV1cPTZSSLWNblKQSCEAAAgEmQIAVYOMhOgQgEE4Cum+RTj+r6wjn8v5fj/zJVYCayVCnoNn5t+Pb8qx06NyuZRw33QMr3fHAndfElY9x3l2zJe6yVAGWE5v3OimTrs+L6Rh7nTh+RJyufIAABCAAgfQECLDS8+FbCEAAAr4j8OmM55Kc4JgznM1rGJMYNGlweBy7czq1SWvfuhsI12WbOOpVuuyjuHpjZetLoJG28RRfOimTjszFZI+9app/DghAAAIQyJwAAVbmrCgJAQhAwBcEpk94IMkJjjnD2bzqSFKYDh3t+vF/7RvHbkCvDmkRDL7knLjyMb6JF6UKsK4d2DuxaN6fnZYpMalH/3Pb5y0zFUAAAhAIEwECrDBZG10hAAEjCDCClZsZrfaqGjSge9rKRgy9NKMAK1WSCydGf5yW6We/OChO55YntUjLiC8hAAEIQCCeAAFWPA8+QQACEPA9gaCuwVo8d5LolDw7/6o3l2Zsr8QEDjoadcMVfdJer+vUYqNWdV8TLypaPNOynBNrsJyW6YjDD43TRQMuDghAAAIQyJwAAVbmrCgJAQhAwDcEyCL4o2gQkE2Gu8dG3xgXOGjAdPsf0q8vmvPOU0nX6HWJh9VGw1rOiUQiTst0VNMGSTq7nXEykS+fIQABCASJQPKvRJCkR1YIQAACISUQxH2wvB7Ben7s8KTAob4kFKmyAyZmEfxmwdSkujXAmjv9advvUKdlat7kiCRdVhXOs10PKoQABCBgKgECLFMti14QgIDxBIYO6pvkCKtTX9/fMc0byfqVi4znk6ig1chPfVMENVvgfj89MIlp4tREq/Vd+x64v2S7EXKizFafnZbp17/+VZy+ulcYBwQgAAEIZE6AACtzVpSEAAQg4CsCu77bKJf27RTnDNcXXOnohO51FMbDauSnviQXyunk445MYpwYoC6d/1ZSmbYtT3AMs5MyHXjQT+N0OeWEoxzTg4ohAAEImEiAAMtEq6ITBCAQKgK6tuigg38e5xQnBlo/3nef6Aa/68oXhopNXWWtRn4u7H123SKW70f+cWASW03LXvf4at5rSWXuufmKukWi73Wq3V03XiaX9essD44YkvNIop0yJQqZmMr+gnPOSizCZwhAAAIQSEOAACsNHL6CAAQgEBQCOqKigVb3Dq2k0RGHiU5P++WvDhZNsa2pwr/+7I2gqOKonMcd3SQuEDq3c9t621uxaFrS/lm6nqzu8fmsF+Pq1cx7mu2x7lG+fLYkTr/TEUXNQJjtYZdMie1u3VgYp4cG6k6kmk9sl88QgAAETCJAgGWSNdEFAhCAAATSEtARq7qjeyce0yxt+diXV/TvFnfdjH8/FPsq+jrpyZFx34++dVDc9/rhuoHnxZWJydGvR7ukspmcsEOmxHZ0+mhMrtjrxPEjEovxGQIQgAAE0hAgwEoDh68gAAEIQMAsAonZF3Wkr2bH2nqV1BHCglOOrQ0+EtO71w2eDj/sENlY9VVSnelS629a/XVS+fpO2CFTYhvvTnywVkcNsA459GDJJhV+Yn18hgAEIBBGAgRYYbQ6OkMAAhAIMYF2rU6OCyKWfT4lIxo65e/UE4+OXqvTL7+c80r0uo/ffkL2/9lPouc1+UTxV+9b1qdrsmKjQomviz7+t+U19Z3MV6bE+u+//eo4Ge8bflViET5DAAIQgEA9BAiw6gHE1xCAAAQgYBaBmS8/HBdETH5qVMYK6oa7Pc5uXXv9L375i+h7TeWu0w+tRq5ilev6Jl0jFwuu6q7HymeNXD4yxWSLvdbNSqnryMKcFCXGhFcIQAAC2RIgwMqWGOUhAAEIQCDQBDSbYN005+f3zD5LngZEunHxmDsGy+y3Hstqv6vlX7wtmoVwQ8WX0WBrnwP2k53bq/Jmmo9M2rhunqzTG2MBYOI0yLwFpAIIQAACISFAgBUSQ6MmBCAAAQj8QGD6hAdEU9drMKGjT+lGnn64yt53S+ZNjrbf5tTj7a04x9o+fH1cbXClUyArVnySY01cBgEIQCDcBAiwwm1/tIcABCAQWgJj7762NqAYd8/1rnMYMfTSaPsa2Pjh0JE8DTh1o2FNO88BAQhAAAK5ESDAyo0bV0EAAhCAgAEEbhp8QTSo0LVUa0q/cE2jyKLpomuc+nQ7w7U20zU0552nohz2PWB/+WDS39MV5TsIQAACEKiHAAFWPYD4GgIQgAAEzCWg67EuOq9jNLjof257W9ZC1UdL95pq2vC/ZUCvDlK9ubS+4o5/X1X8mRzdrGF0yuQrj//Z8fZoAAIQgIDpBAiwTLcw+kEAAhCAQFoCO74tl5uv6S+6J9bZp5/i2EiWJrIYddPl0eDqgTuviSaVSCuYC19qso1TTjhKjjj8UNHNkjkgAAEIQCB/AgRY+TOkBghAAAIQMIBA5Mt3o6NKOppTWfSp7RrpnlWaedAPo1aq3NzpT0uzxv8j9952JZsJ225tKoQABMJMgAArzNZHdwhAAAIQSCIw/4N/ScnXs5LOm3ZC112tKpxnmlroAwEIQMBzAgRYnpsAASAAAQhAAAIQgAAEIAABUwgQYJliSfSAAAQgAAEIQAACEIAABDwnQIDluQkQAAIQgAAEIAABCEAAAhAwhQABlimWRA8IQAACEIAABCAAAQhAwHMCBFiemwABIAABCEAAAhCAAAQgAAFTCBBgmWJJ9IAABCAAAQhAAAIQgAAEPCdAgOW5CRAAAhCAAAQgAAEIQAACEDCFAAGWKZZEDwhAAAIQgAAEIAABCEDAcwIEWJ6bAAEgAAEIQAACEIAABCAAAVMIEGCZYkn0gAAEIAABCEAAAhCAAAQ8J0CA5bkJEAACEIAABCAAAQhAAAIQMIUAAZYplkQPCEAAAhCAAAQgAAEIQMBzAv8fDr2wh5WUTX8AAAAASUVORK5CYII=)\n",
        "\n",
        "**Figura 1.** Círculo (<span style=\"color:blue\">azul</span>) dentro de un cuadrado (negro)."
      ]
    },
    {
      "cell_type": "markdown",
      "metadata": {
        "id": "wKu67QdKU9yz"
      },
      "source": [
        "Por lo tanto, si se genera una gran cantidad de puntos aleatorios $(x,y)$ en el cuadrado, la proporción de puntos que caen en el circulo será aproximadamente $\\frac{\\pi}{4}$. Ahora, si $X$ y $Y$ son variables aleatorias independientes y  uniformemente distribuidas en el intervalo $(-1,1)$, su densidad conjunta sería:\n",
        "\n",
        "$$\n",
        "\\begin{align*}\n",
        "f(x,y) &= f(x)f(y)\\\\ \n",
        " &= \\frac{1}{2} \\cdot \\frac{1}{2}\\\\\n",
        " &= \\frac{1}{4},\\;  -1\\leqslant x\\leqslant 1,\\;  -1\\leqslant y\\leqslant 1\n",
        "\\end{align*}\n",
        "$$\n",
        "\n",
        "Dado que la función de densidad de $(X,Y)$ es constante en el cuadrado, se sigue (por definición) que $(X,Y)$ estan uniformemente distribuidos en el cuadrado. Ahora, si $U$ es uniforme en $(0,1)$, entonces $2U$ es uniforme en $(0,2)$, por lo que $2U-1$ es uniforme en $(-1,1)$. Por lo tanto, si se genera números aleatorios $U_1$ y $U_2$, se establece $X = 2U_1-1$ y $Y = 2U_2-1$, y se define la función $I$:\n",
        "\n",
        "\n",
        "$$\n",
        "I=\\left\\{\\begin{matrix}\n",
        "1 & si\\: \\: X^2 + Y^2 \\leqslant 1 \\\\ \n",
        "0 & de\\: \\: lo\\: \\: contrario\n",
        "\\end{matrix}\\right.\n",
        "$$\n",
        "\n",
        "entonces el valor esperado $E[I]$ seria:\n",
        "\n",
        "$$E[I]=P\\left \\{ X^2 + Y^2 \\leqslant 1 \\right \\} = \\frac{\\pi}{4}$$\n",
        "\n",
        "Por tanto, se puede estimar $\\frac{\\pi}{4}$ generando un gran número de puntos $(x,y)$ a partir de los números aleatorios $u_1,u_2$ y calculando $\\frac{\\pi}{4}$ por la fracción de puntos del total que caen en el circulo, esto es para aquellos que se cuemple que $(2u_1-1)^2 + (2u_2-1)^2 \\leqslant 1$.\n",
        "\n",
        "## 3.1. \n",
        "Implemente un método que permita estimar el valor de $\\frac{\\pi}{4}$ por medio de la generación de parejas de valores aleatorios $u_1,u_2$ donde para cada valor $u_1$ y $u_2$ se obtenga de una secuencia aleatoria de diferente correspondiente a un buen generador congruencial mixto distinto.\n"
      ]
    },
    {
      "cell_type": "code",
      "metadata": {
        "id": "brnOj6umedLv"
      },
      "source": [
        "import math\n",
        "import random\n",
        "import numpy as np\n",
        "\n",
        "def genran(a,c,m,xant):\n",
        "    xsig = (a*xant + c) % m\n",
        "    usig = xsig / m\n",
        "    return [xsig,usig]\n",
        "\n",
        "def genranN(a,c,m,x0,N):\n",
        "    xant = x0\n",
        "    I=[]\n",
        "    X=[]\n",
        "    U=[]\n",
        "    for t in range(1, N+1):\n",
        "        [xi,ui] = genran(a,c,m,xant)\n",
        "        I.append(t)\n",
        "        X.append(xi)\n",
        "        U.append(ui)\n",
        "        xant = xi\n",
        "    return [I,X,U]\n",
        "\n",
        "def calcular(U1,U2,pi):\n",
        "    cont=0\n",
        "    prob=0\n",
        "    for i in range(N):\n",
        "      v1 = ((2*(U1[i]))-1)\n",
        "      v2 = ((2*(U2[i]))-1)\n",
        "      suma = pow(v1, 2) + pow(v2, 2)\n",
        "      if suma < 1:\n",
        "        cont = cont + 1\n",
        "    prob = cont / N\n",
        "    error_absoluto = (((pi/4) - prob) / (pi/4)) * 100\n",
        "    print(\"Probabilidad de que caiga dentro del circulo: \" + str(prob))\n",
        "    print(\"El error absoluto es: \" + str(error_absoluto))"
      ],
      "execution_count": 14,
      "outputs": []
    },
    {
      "cell_type": "code",
      "metadata": {
        "colab": {
          "base_uri": "https://localhost:8080/"
        },
        "id": "yq2NE8Pn5vnI",
        "outputId": "de58580f-7430-4049-89ec-a3cd39ebb4d5"
      },
      "source": [
        "N=18000\n",
        "x0=125\n",
        "pi = math.pi\n",
        "a1=1664525\n",
        "c1=1013904223\n",
        "m1=2**32\n",
        "a2=1103515245\n",
        "c2=12345\n",
        "m2=(2**31)-1\n",
        "[I1,X1,U1] = genranN(a1,c1,m1,x0,N)\n",
        "[I2,X2,U2] = genranN(a2,c2,m2,x0,N)\n",
        "calcular(U1,U2,pi)"
      ],
      "execution_count": 15,
      "outputs": [
        {
          "output_type": "stream",
          "text": [
            "Probabilidad de que caiga dentro del circulo: 0.7883888888888889\n",
            "El error absoluto es: -0.3807909963149724\n"
          ],
          "name": "stdout"
        }
      ]
    },
    {
      "cell_type": "markdown",
      "metadata": {
        "id": "q6NjTPHoeeMT"
      },
      "source": [
        "## 3.2.\n",
        "Estimar el valor de $\\frac{\\pi}{4}$ generando 100, 1.000, 10.000, 100.000 y 1.000.000 de puntos usando las mismas semillas para cada secuencia, y calcule el error absoluto para cada uno."
      ]
    },
    {
      "cell_type": "code",
      "metadata": {
        "id": "X234Ik_BtOOY",
        "colab": {
          "base_uri": "https://localhost:8080/"
        },
        "outputId": "e57efd98-f716-4512-d40f-c77bee9bbf7f"
      },
      "source": [
        "print(\"generando 100\")\n",
        "N=100\n",
        "[I1,X1,U1] = genranN(a1,c1,m1,x0,N)\n",
        "[I2,X2,U2] = genranN(a2,c2,m2,x0,N)\n",
        "calcular(U1,U2,pi)\n",
        "print(\"\\n\")\n",
        "print(\"generando 1000\")\n",
        "N=1000\n",
        "[I1,X1,U1] = genranN(a1,c1,m1,x0,N)\n",
        "[I2,X2,U2] = genranN(a2,c2,m2,x0,N)\n",
        "calcular(U1,U2,pi)\n",
        "print(\"\\n\")\n",
        "print(\"generando 10000\")\n",
        "N=10000\n",
        "[I1,X1,U1] = genranN(a1,c1,m1,x0,N)\n",
        "[I2,X2,U2] = genranN(a2,c2,m2,x0,N)\n",
        "calcular(U1,U2,pi)\n",
        "print(\"\\n\")\n",
        "print(\"generando 100000\")\n",
        "N=100000\n",
        "[I1,X1,U1] = genranN(a1,c1,m1,x0,N)\n",
        "[I2,X2,U2] = genranN(a2,c2,m2,x0,N)\n",
        "calcular(U1,U2,pi)\n",
        "print(\"\\n\")\n",
        "print(\"generando 1000000\")\n",
        "N=1000000\n",
        "[I1,X1,U1] = genranN(a1,c1,m1,x0,N)\n",
        "[I2,X2,U2] = genranN(a2,c2,m2,x0,N)\n",
        "calcular(U1,U2,pi)"
      ],
      "execution_count": 23,
      "outputs": [
        {
          "output_type": "stream",
          "text": [
            "generando 100\n",
            "Probabilidad de que caiga dentro del circulo: 0.86\n",
            "El error absoluto es: -9.498600847223994\n",
            "\n",
            "\n",
            "generando 1000\n",
            "Probabilidad de que caiga dentro del circulo: 0.789\n",
            "El error absoluto es: -0.4586000796043443\n",
            "\n",
            "\n",
            "generando 10000\n",
            "Probabilidad de que caiga dentro del circulo: 0.788\n",
            "El error absoluto es: -0.3312761251308279\n",
            "\n",
            "\n",
            "generando 100000\n",
            "Probabilidad de que caiga dentro del circulo: 0.78672\n",
            "El error absoluto es: -0.16830146340471955\n",
            "\n",
            "\n",
            "generando 1000000\n",
            "Probabilidad de que caiga dentro del circulo: 0.785244\n",
            "El error absoluto es: 0.019628693398180515\n"
          ],
          "name": "stdout"
        }
      ]
    },
    {
      "cell_type": "markdown",
      "metadata": {
        "id": "8OAuHeoyilyi"
      },
      "source": [
        "## **4. Generación de v.a. discretas para simular un sistema de colas simple.** ##\n",
        "\n",
        "Tomando como base el [Ejemplo 1 (*Ad Hoc Simulation*) del Capítulo 1 de \\[Banks98\\]](https://drive.google.com/file/d/1SApy39McxOjFKEYWJ8qg9sa892XeUUyC/view?usp=sharing) realizado en clase, repetir el ejemplo pero en lugar de generar las variables aleatorias de los *tiempos entre llegadas* con la ruleta con valores de 1 a 10 y *tiempos de servicio* con el dado de seis caras, hágalo con una implementación en Python de generación de v.a. discretas ([Capítulo 4 de \\[Ross99\\]](https://drive.google.com/file/d/0B0MRo23s_UhyYVpBRWp6dGE2dEE/view?usp=sharing)) para que el *tiempo entre llegadas* sean valores de una distribución de Poisson con parámetro $\\lambda = 7$, y el *tiempo de servicio* sean valores de una distribución binomial con parámetros $n=25$ y $p=0.4$. Similar al ejemplo *Ad hoc Simulation*, calcular las respectivas medidas de desempeño con una simulación hasta que 20 clientes que hayan llegado hayan sido atendidos.\n",
        "\n"
      ]
    },
    {
      "cell_type": "code",
      "metadata": {
        "id": "nzTWMuI3C4b2",
        "colab": {
          "base_uri": "https://localhost:8080/"
        },
        "outputId": "63a36336-24ec-4149-bff5-fe2d155962d7"
      },
      "source": [
        "import numpy as np\n",
        "import random\n",
        "import math\n",
        "\n",
        "def generadorPoisson():\n",
        "  lambda_ = 7\n",
        "  U = random.random()\n",
        "  i = 0\n",
        "  p = np.exp(-lambda_)\n",
        "  F = p\n",
        "  x = 0\n",
        "  while (U > F):\n",
        "    p = (lambda_ * p) / (i + 1)\n",
        "    F = (F + p)\n",
        "    i = i + 1\n",
        "    x = i\n",
        "  return x\n",
        "\n",
        "def generarAleatorioBinomial():\n",
        "  U = random.random()\n",
        "  n = 25\n",
        "  p = 0.4\n",
        "  c = p / (1-p)\n",
        "  i = 0\n",
        "  pr = pow((1-p), n)\n",
        "  F = pr\n",
        "  while (U > F):\n",
        "    pr = ( (c * (n-i)) / (i+1) ) * pr\n",
        "    F = F + pr\n",
        "    i = i + 1\n",
        "    x = i\n",
        "  return x\n",
        "\n",
        "def simular():\n",
        "  tiempoEntreLlegadas = []\n",
        "  tiempoLlegada = []\n",
        "  tiempoServicio = []\n",
        "  iniciaServicio = []\n",
        "  tiempoServicioFin = []\n",
        "  tiempoSistema = []\n",
        "  tiempoOcio = []\n",
        "  tiempoFila = []\n",
        "\n",
        "  persona_esperando = 0\n",
        "\n",
        "  for i in range(20):\n",
        "    if i == 0:\n",
        "      tiempoEntreLlegadas.append(0)\n",
        "      tiempoLlegada.append(0)\n",
        "      tiempoServicio.append(generarAleatorioBinomial())\n",
        "      iniciaServicio.append(0)\n",
        "      tiempoServicioFin.append(tiempoServicio[i] + iniciaServicio[i])\n",
        "      tiempoSistema.append(tiempoServicioFin[i] - tiempoLlegada[i])\n",
        "      tiempoOcio.append(0)\n",
        "      tiempoFila.append(0)\n",
        "    else:\n",
        "      tiempoEntreLlegadas.append(generadorPoisson())\n",
        "      tiempoLlegada.append(tiempoLlegada[i-1] + tiempoEntreLlegadas[i])\n",
        "      tiempoServicio.append(generarAleatorioBinomial())\n",
        "      if tiempoLlegada[i] > tiempoServicioFin[i-1]:\n",
        "        iniciaServicio.append(tiempoLlegada[i])\n",
        "      else:\n",
        "        iniciaServicio.append(tiempoServicioFin[i-1])\n",
        "      tiempoServicioFin.append(tiempoServicio[i] + iniciaServicio[i])\n",
        "      tiempoSistema.append(tiempoServicioFin[i] - tiempoLlegada[i])\n",
        "      if (tiempoLlegada[i] - tiempoServicioFin[i-1]) > 0:\n",
        "        tiempoOcio.append(tiempoLlegada[i] - tiempoServicioFin[i-1])\n",
        "      else:\n",
        "        tiempoOcio.append(0)\n",
        "      if (tiempoServicioFin[i-1] - tiempoLlegada[i]) > 0:\n",
        "        tiempoFila.append(tiempoServicioFin[i-1] - tiempoLlegada[i])\n",
        "        persona_esperando = persona_esperando + 1\n",
        "      else:\n",
        "        tiempoFila.append(0)\n",
        "  \n",
        "  print(\"T.EntreLlegadas| T.Llegada| T.Servicio| IniciaServicio| T.ServicioFin| T.EnSistema| T.Ocio| T.EnFila \")\n",
        "  print(\"----------------------------------------------------------------\")\n",
        "  for x in range(20):\n",
        "    print(\"%d\\t%d\\t%d\\t%d\\t%d\\t%d\\t%d\\t%d\" %\n",
        "          (tiempoEntreLlegadas[x], tiempoLlegada[x], tiempoServicio[x], iniciaServicio[x], \n",
        "           tiempoServicioFin[x], tiempoSistema[x], tiempoOcio[x], tiempoFila[x]),  end='\\n')\n",
        "  print(\"Resultados\\n\")\n",
        "  print(\"T. promedio en sistema: \" + str(sum(tiempoSistema) / len(tiempoSistema)))\n",
        "  print(\"T. promedio que esperaron: \" + str(sum(tiempoFila) / persona_esperando))\n",
        "  print(\"T. promedio de espera: \" + str(sum(tiempoFila) / len(tiempoFila)))\n",
        "  print(\"\\n\")\n",
        "  print(\"% de personas que esperaron: \" + str(persona_esperando / len(tiempoFila)))\n",
        "  print(\"% Ocio en el sistema: \" + str(sum(tiempoOcio) / tiempoServicioFin[19]))\n",
        "\n",
        "simular()"
      ],
      "execution_count": 17,
      "outputs": [
        {
          "output_type": "stream",
          "text": [
            "T.EntreLlegadas| T.Llegada| T.Servicio| IniciaServicio| T.ServicioFin| T.EnSistema| T.Ocio| T.EnFila \n",
            "----------------------------------------------------------------\n",
            "0\t0\t9\t0\t9\t9\t0\t0\n",
            "5\t5\t11\t9\t20\t15\t0\t4\n",
            "5\t10\t10\t20\t30\t20\t0\t10\n",
            "9\t19\t10\t30\t40\t21\t0\t11\n",
            "9\t28\t9\t40\t49\t21\t0\t12\n",
            "7\t35\t7\t49\t56\t21\t0\t14\n",
            "10\t45\t9\t56\t65\t20\t0\t11\n",
            "3\t48\t10\t65\t75\t27\t0\t17\n",
            "6\t54\t9\t75\t84\t30\t0\t21\n",
            "9\t63\t11\t84\t95\t32\t0\t21\n",
            "1\t64\t12\t95\t107\t43\t0\t31\n",
            "8\t72\t9\t107\t116\t44\t0\t35\n",
            "7\t79\t15\t116\t131\t52\t0\t37\n",
            "11\t90\t8\t131\t139\t49\t0\t41\n",
            "8\t98\t11\t139\t150\t52\t0\t41\n",
            "5\t103\t8\t150\t158\t55\t0\t47\n",
            "9\t112\t11\t158\t169\t57\t0\t46\n",
            "5\t117\t13\t169\t182\t65\t0\t52\n",
            "8\t125\t15\t182\t197\t72\t0\t57\n",
            "10\t135\t9\t197\t206\t71\t0\t62\n",
            "Resultados\n",
            "\n",
            "T. promedio en sistema: 38.8\n",
            "T. promedio que esperaron: 30.0\n",
            "T. promedio de espera: 28.5\n",
            "\n",
            "\n",
            "% de personas que esperaron: 0.95\n",
            "% Ocio en el sistema: 0.0\n"
          ],
          "name": "stdout"
        }
      ]
    },
    {
      "cell_type": "markdown",
      "metadata": {
        "id": "iJ4XB5jpDKx-"
      },
      "source": [
        "## **5. Calculando intervalos de confianza.** ##\n",
        "\n",
        "Similar al ejercicio realizado en clase y al [Ejemplo 2 (*Confidence Intervals*) del Capítulo 1 de \\[Banks98\\]](https://drive.google.com/file/d/1SApy39McxOjFKEYWJ8qg9sa892XeUUyC/view?usp=sharing), repetir 5 veces la simulación del punto anterior y calcular el intervalo de confianza del 95% ($\\alpha = 0.05$) de la medida de desempeño del *tiempo promedio en el sistema* (*Average time in system*).  "
      ]
    },
    {
      "cell_type": "code",
      "metadata": {
        "id": "-UO8erMBY_RC",
        "colab": {
          "base_uri": "https://localhost:8080/"
        },
        "outputId": "23480b5e-a7ba-4a1e-fcfb-e8f59a10a009"
      },
      "source": [
        "import numpy as np\n",
        "import random\n",
        "import math\n",
        "import scipy.stats as sts\n",
        "\n",
        "def generadorPoisson():\n",
        "  lambda_ = 7\n",
        "  U = random.random()\n",
        "  i = 0\n",
        "  p = np.exp(-lambda_)\n",
        "  F = p\n",
        "  x = 0\n",
        "\n",
        "  while (U > F):\n",
        "    p = (lambda_ * p) / (i + 1)\n",
        "    F = (F + p)\n",
        "    i = i + 1\n",
        "    x = i\n",
        "  return x\n",
        "\n",
        "def generarAleatorioBinomial():\n",
        "  U = random.random()\n",
        "  n = 25\n",
        "  p = 0.4\n",
        "  c = p / (1-p)\n",
        "  i = 0\n",
        "  pr = pow((1-p), n)\n",
        "  F = pr\n",
        "  while (U > F):\n",
        "    pr = ((c* (n-i)) / (i+1) ) * pr\n",
        "    F = F + pr\n",
        "    i = i + 1\n",
        "    x = i\n",
        "  return x\n",
        "\n",
        "def simular():\n",
        "  tiempoEntreLlegadas = []\n",
        "  tiempoLlegada = []\n",
        "  tiempoServicio = []\n",
        "  iniciaServicio = []\n",
        "  tiempoServicioFin = []\n",
        "  tiempoSistema = []\n",
        "  tiempoOcio = []\n",
        "  tiempoFila = []\n",
        "\n",
        "  var = 0\n",
        "  desviacionEstandar = 0\n",
        "  Xbarra = 0\n",
        "  h = 0\n",
        "  cons_tabla = np.abs(sts.t.ppf(0.025,19))\n",
        "\n",
        "\n",
        "  for i in range(20):\n",
        "    if i == 0:\n",
        "      tiempoEntreLlegadas.append(0)\n",
        "      tiempoLlegada.append(0)\n",
        "      tiempoServicio.append(generarAleatorioBinomial())\n",
        "      iniciaServicio.append(0)\n",
        "      tiempoServicioFin.append(tiempoServicio[i] + iniciaServicio[i])\n",
        "      tiempoSistema.append(tiempoServicioFin[i] - tiempoLlegada[i])\n",
        "      tiempoOcio.append(0)\n",
        "      tiempoFila.append(0)\n",
        "    else:\n",
        "      tiempoEntreLlegadas.append(generadorPoisson())\n",
        "      tiempoLlegada.append(tiempoLlegada[i-1] + tiempoEntreLlegadas[i])\n",
        "      tiempoServicio.append(generarAleatorioBinomial())\n",
        "      if tiempoLlegada[i] > tiempoServicioFin[i-1]:\n",
        "        iniciaServicio.append(tiempoLlegada[i])\n",
        "      else:\n",
        "        iniciaServicio.append(tiempoServicioFin[i-1])\n",
        "      tiempoServicioFin.append(tiempoServicio[i] + iniciaServicio[i])\n",
        "      tiempoSistema.append(tiempoServicioFin[i] - tiempoLlegada[i])\n",
        "      if (tiempoLlegada[i] - tiempoServicioFin[i-1]) > 0:\n",
        "        tiempoOcio.append(tiempoLlegada[i] - tiempoServicioFin[i-1])\n",
        "      else:\n",
        "        tiempoOcio.append(0)\n",
        "      if (tiempoServicioFin[i-1] - tiempoLlegada[i]) > 0:\n",
        "        tiempoFila.append(tiempoServicioFin[i-1] - tiempoLlegada[i])\n",
        "      else:\n",
        "        tiempoFila.append(0)\n",
        "\n",
        "  print(\"\\n\")\n",
        "  var = np.var(tiempoSistema)\n",
        "  print(\"Varianza: \" + str(var))\n",
        "\n",
        "  Xbarra = sum(tiempoSistema) / len(tiempoSistema)\n",
        "  print(\"Valor Medio: \" + str(Xbarra))\n",
        "\n",
        "  desviacionEstandar = math.sqrt(var)\n",
        "  print(\"Desviación estandar: \" + str(desviacionEstandar))\n",
        "\n",
        "  h = cons_tabla * (desviacionEstandar / math.sqrt(20))\n",
        "  print(\"h: \" + str(h))\n",
        "\n",
        "  print(\"Intervalo de confianza: [\" + str(Xbarra - h) + \", \" + str(Xbarra + h) +\"]\")\n",
        "\n",
        "for i in range(4):\n",
        "  simular()\n"
      ],
      "execution_count": 20,
      "outputs": [
        {
          "output_type": "stream",
          "text": [
            "\n",
            "\n",
            "Varianza: 659.6099999999999\n",
            "Valor Medio: 50.7\n",
            "Desviación estandar: 25.682873670989387\n",
            "h: 12.01995487628562\n",
            "Intervalo de confianza: [38.68004512371438, 62.71995487628563]\n",
            "\n",
            "\n",
            "Varianza: 525.5274999999999\n",
            "Valor Medio: 46.85\n",
            "Desviación estandar: 22.924386578488853\n",
            "h: 10.728943177072\n",
            "Intervalo de confianza: [36.121056822928, 57.578943177072006]\n",
            "\n",
            "\n",
            "Varianza: 131.84\n",
            "Valor Medio: 21.6\n",
            "Desviación estandar: 11.48216007552586\n",
            "h: 5.373816332165619\n",
            "Intervalo de confianza: [16.226183667834384, 26.97381633216562]\n",
            "\n",
            "\n",
            "Varianza: 169.4\n",
            "Valor Medio: 27.0\n",
            "Desviación estandar: 13.015375522819156\n",
            "h: 6.0913832496444265\n",
            "Intervalo de confianza: [20.908616750355574, 33.09138324964442]\n"
          ],
          "name": "stdout"
        }
      ]
    }
  ]
}